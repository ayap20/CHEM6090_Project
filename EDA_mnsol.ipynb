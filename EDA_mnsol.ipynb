{
 "cells": [
  {
   "cell_type": "markdown",
   "id": "6b180c83-84f9-4c20-9c94-d3486392be7c",
   "metadata": {},
   "source": [
    "# Exploratory Data Analysis for MNSol Dataset"
   ]
  },
  {
   "cell_type": "markdown",
   "id": "8937b28f-8446-4052-a9c6-fcfdcbae3f2b",
   "metadata": {},
   "source": [
    "Looking at the dataset user manual (https://conservancy.umn.edu/bitstream/handle/11299/213300/mnsol_Manual_v2.0.1-2020.5.20.pdf?sequence=11&isAllowed=y), it states that only the first 12 columns are of use, and the rest of for developers"
   ]
  },
  {
   "cell_type": "code",
   "execution_count": 1,
   "id": "1ec12b7a-9866-4e80-a5c6-633d129fa9f8",
   "metadata": {},
   "outputs": [],
   "source": [
    "# importing modules that will be used\n",
    "\n",
    "import pandas as pd\n",
    "import numpy as np\n",
    "import seaborn as sns\n",
    "from matplotlib import pyplot as plt"
   ]
  },
  {
   "cell_type": "code",
   "execution_count": 2,
   "id": "31cb2ce1-026d-4207-8f29-31a0e16d1c9e",
   "metadata": {},
   "outputs": [],
   "source": [
    "# load csv file as a pandas dataframe\n",
    "df = pd.read_csv('MNSol.csv')"
   ]
  },
  {
   "cell_type": "code",
   "execution_count": 4,
   "id": "60c68ab4-e2e7-4f08-b84b-94021281bd35",
   "metadata": {},
   "outputs": [],
   "source": [
    "# the only relevant columns to us are SoluteName, Formula, Solvent, and DeltaGSolv\n",
    "df = df[['SoluteName', 'Formula', 'Solvent', 'DeltaGsolv']]"
   ]
  },
  {
   "cell_type": "code",
   "execution_count": 5,
   "id": "1857cf8e-4931-4d2a-935b-b623e23cd3fd",
   "metadata": {},
   "outputs": [
    {
     "data": {
      "text/html": [
       "<div>\n",
       "<style scoped>\n",
       "    .dataframe tbody tr th:only-of-type {\n",
       "        vertical-align: middle;\n",
       "    }\n",
       "\n",
       "    .dataframe tbody tr th {\n",
       "        vertical-align: top;\n",
       "    }\n",
       "\n",
       "    .dataframe thead th {\n",
       "        text-align: right;\n",
       "    }\n",
       "</style>\n",
       "<table border=\"1\" class=\"dataframe\">\n",
       "  <thead>\n",
       "    <tr style=\"text-align: right;\">\n",
       "      <th></th>\n",
       "      <th>SoluteName</th>\n",
       "      <th>Formula</th>\n",
       "      <th>Solvent</th>\n",
       "      <th>DeltaGsolv</th>\n",
       "    </tr>\n",
       "  </thead>\n",
       "  <tbody>\n",
       "    <tr>\n",
       "      <th>0</th>\n",
       "      <td>n-octane</td>\n",
       "      <td>H18C8</td>\n",
       "      <td>2methylpyridine</td>\n",
       "      <td>-4.73</td>\n",
       "    </tr>\n",
       "    <tr>\n",
       "      <th>1</th>\n",
       "      <td>toluene</td>\n",
       "      <td>H8C7</td>\n",
       "      <td>2methylpyridine</td>\n",
       "      <td>-5.06</td>\n",
       "    </tr>\n",
       "    <tr>\n",
       "      <th>2</th>\n",
       "      <td>ethanol</td>\n",
       "      <td>H6C2O1</td>\n",
       "      <td>2methylpyridine</td>\n",
       "      <td>-5.01</td>\n",
       "    </tr>\n",
       "    <tr>\n",
       "      <th>3</th>\n",
       "      <td>1,4-dioxane</td>\n",
       "      <td>H8C4O2</td>\n",
       "      <td>2methylpyridine</td>\n",
       "      <td>-5.01</td>\n",
       "    </tr>\n",
       "    <tr>\n",
       "      <th>4</th>\n",
       "      <td>2-butanone</td>\n",
       "      <td>H8C4O1</td>\n",
       "      <td>2methylpyridine</td>\n",
       "      <td>-4.52</td>\n",
       "    </tr>\n",
       "  </tbody>\n",
       "</table>\n",
       "</div>"
      ],
      "text/plain": [
       "    SoluteName Formula          Solvent  DeltaGsolv\n",
       "0     n-octane   H18C8  2methylpyridine       -4.73\n",
       "1      toluene    H8C7  2methylpyridine       -5.06\n",
       "2      ethanol  H6C2O1  2methylpyridine       -5.01\n",
       "3  1,4-dioxane  H8C4O2  2methylpyridine       -5.01\n",
       "4   2-butanone  H8C4O1  2methylpyridine       -4.52"
      ]
     },
     "execution_count": 5,
     "metadata": {},
     "output_type": "execute_result"
    }
   ],
   "source": [
    "df.head()"
   ]
  },
  {
   "cell_type": "code",
   "execution_count": 9,
   "id": "7642feb5-a934-4b9b-a3c4-ecaf9512186f",
   "metadata": {},
   "outputs": [
    {
     "data": {
      "text/html": [
       "<div>\n",
       "<style scoped>\n",
       "    .dataframe tbody tr th:only-of-type {\n",
       "        vertical-align: middle;\n",
       "    }\n",
       "\n",
       "    .dataframe tbody tr th {\n",
       "        vertical-align: top;\n",
       "    }\n",
       "\n",
       "    .dataframe thead th {\n",
       "        text-align: right;\n",
       "    }\n",
       "</style>\n",
       "<table border=\"1\" class=\"dataframe\">\n",
       "  <thead>\n",
       "    <tr style=\"text-align: right;\">\n",
       "      <th></th>\n",
       "      <th>SoluteName</th>\n",
       "      <th>Formula</th>\n",
       "      <th>Solvent</th>\n",
       "      <th>DeltaGsolv</th>\n",
       "    </tr>\n",
       "  </thead>\n",
       "  <tbody>\n",
       "    <tr>\n",
       "      <th>2092</th>\n",
       "      <td>methane</td>\n",
       "      <td>H4C1</td>\n",
       "      <td>water</td>\n",
       "      <td>2.00</td>\n",
       "    </tr>\n",
       "    <tr>\n",
       "      <th>2093</th>\n",
       "      <td>ethane</td>\n",
       "      <td>H6C2</td>\n",
       "      <td>water</td>\n",
       "      <td>1.83</td>\n",
       "    </tr>\n",
       "    <tr>\n",
       "      <th>2094</th>\n",
       "      <td>n-propane</td>\n",
       "      <td>H8C3</td>\n",
       "      <td>water</td>\n",
       "      <td>1.96</td>\n",
       "    </tr>\n",
       "    <tr>\n",
       "      <th>2095</th>\n",
       "      <td>n-butane</td>\n",
       "      <td>H10C4</td>\n",
       "      <td>water</td>\n",
       "      <td>2.08</td>\n",
       "    </tr>\n",
       "    <tr>\n",
       "      <th>2096</th>\n",
       "      <td>n-pentane</td>\n",
       "      <td>H12C5</td>\n",
       "      <td>water</td>\n",
       "      <td>2.33</td>\n",
       "    </tr>\n",
       "    <tr>\n",
       "      <th>...</th>\n",
       "      <td>...</td>\n",
       "      <td>...</td>\n",
       "      <td>...</td>\n",
       "      <td>...</td>\n",
       "    </tr>\n",
       "    <tr>\n",
       "      <th>3032</th>\n",
       "      <td>benzamide</td>\n",
       "      <td>H8C7N1O1</td>\n",
       "      <td>water</td>\n",
       "      <td>-67.20</td>\n",
       "    </tr>\n",
       "    <tr>\n",
       "      <th>3033</th>\n",
       "      <td>dimethylsulfide</td>\n",
       "      <td>H7C2S1</td>\n",
       "      <td>water</td>\n",
       "      <td>-64.50</td>\n",
       "    </tr>\n",
       "    <tr>\n",
       "      <th>3034</th>\n",
       "      <td>dimethylsulfoxide</td>\n",
       "      <td>H7C2O1S1</td>\n",
       "      <td>water</td>\n",
       "      <td>-67.70</td>\n",
       "    </tr>\n",
       "    <tr>\n",
       "      <th>3035</th>\n",
       "      <td>3-chloroaniline</td>\n",
       "      <td>H7C6N1CL1</td>\n",
       "      <td>water</td>\n",
       "      <td>-74.70</td>\n",
       "    </tr>\n",
       "    <tr>\n",
       "      <th>3036</th>\n",
       "      <td>4-chloroaniline</td>\n",
       "      <td>H7C6N1CL1</td>\n",
       "      <td>water</td>\n",
       "      <td>-74.10</td>\n",
       "    </tr>\n",
       "  </tbody>\n",
       "</table>\n",
       "<p>533 rows × 4 columns</p>\n",
       "</div>"
      ],
      "text/plain": [
       "             SoluteName    Formula Solvent  DeltaGsolv\n",
       "2092            methane       H4C1   water        2.00\n",
       "2093             ethane       H6C2   water        1.83\n",
       "2094          n-propane       H8C3   water        1.96\n",
       "2095           n-butane      H10C4   water        2.08\n",
       "2096          n-pentane      H12C5   water        2.33\n",
       "...                 ...        ...     ...         ...\n",
       "3032          benzamide   H8C7N1O1   water      -67.20\n",
       "3033    dimethylsulfide     H7C2S1   water      -64.50\n",
       "3034  dimethylsulfoxide   H7C2O1S1   water      -67.70\n",
       "3035    3-chloroaniline  H7C6N1CL1   water      -74.70\n",
       "3036    4-chloroaniline  H7C6N1CL1   water      -74.10\n",
       "\n",
       "[533 rows x 4 columns]"
      ]
     },
     "execution_count": 9,
     "metadata": {},
     "output_type": "execute_result"
    }
   ],
   "source": [
    "# 533 solvation values were measured using water as a solvent\n",
    "df[df.Solvent == 'water']"
   ]
  },
  {
   "cell_type": "code",
   "execution_count": 6,
   "id": "f7d493b8-e6bc-4f7b-a932-a41e674b264b",
   "metadata": {},
   "outputs": [
    {
     "data": {
      "text/html": [
       "<div>\n",
       "<style scoped>\n",
       "    .dataframe tbody tr th:only-of-type {\n",
       "        vertical-align: middle;\n",
       "    }\n",
       "\n",
       "    .dataframe tbody tr th {\n",
       "        vertical-align: top;\n",
       "    }\n",
       "\n",
       "    .dataframe thead th {\n",
       "        text-align: right;\n",
       "    }\n",
       "</style>\n",
       "<table border=\"1\" class=\"dataframe\">\n",
       "  <thead>\n",
       "    <tr style=\"text-align: right;\">\n",
       "      <th></th>\n",
       "      <th>DeltaGsolv</th>\n",
       "    </tr>\n",
       "  </thead>\n",
       "  <tbody>\n",
       "    <tr>\n",
       "      <th>count</th>\n",
       "      <td>3037.000000</td>\n",
       "    </tr>\n",
       "    <tr>\n",
       "      <th>mean</th>\n",
       "      <td>-12.313724</td>\n",
       "    </tr>\n",
       "    <tr>\n",
       "      <th>std</th>\n",
       "      <td>20.539238</td>\n",
       "    </tr>\n",
       "    <tr>\n",
       "      <th>min</th>\n",
       "      <td>-110.300000</td>\n",
       "    </tr>\n",
       "    <tr>\n",
       "      <th>25%</th>\n",
       "      <td>-7.260000</td>\n",
       "    </tr>\n",
       "    <tr>\n",
       "      <th>50%</th>\n",
       "      <td>-5.110000</td>\n",
       "    </tr>\n",
       "    <tr>\n",
       "      <th>75%</th>\n",
       "      <td>-3.710000</td>\n",
       "    </tr>\n",
       "    <tr>\n",
       "      <th>max</th>\n",
       "      <td>5.360000</td>\n",
       "    </tr>\n",
       "  </tbody>\n",
       "</table>\n",
       "</div>"
      ],
      "text/plain": [
       "        DeltaGsolv\n",
       "count  3037.000000\n",
       "mean    -12.313724\n",
       "std      20.539238\n",
       "min    -110.300000\n",
       "25%      -7.260000\n",
       "50%      -5.110000\n",
       "75%      -3.710000\n",
       "max       5.360000"
      ]
     },
     "execution_count": 6,
     "metadata": {},
     "output_type": "execute_result"
    }
   ],
   "source": [
    "# quick look at summary statistics\n",
    "df.describe()"
   ]
  },
  {
   "cell_type": "code",
   "execution_count": 7,
   "id": "239fc392-606e-430c-a9bd-87f71bce597a",
   "metadata": {},
   "outputs": [
    {
     "data": {
      "text/plain": [
       "<AxesSubplot:xlabel='DeltaGsolv'>"
      ]
     },
     "execution_count": 7,
     "metadata": {},
     "output_type": "execute_result"
    },
    {
     "data": {
      "image/png": "[encoded data removed]",
      "text/plain": [
       "<Figure size 432x288 with 1 Axes>"
      ]
     },
     "metadata": {
      "needs_background": "light"
     },
     "output_type": "display_data"
    }
   ],
   "source": [
    "# box plot of solubility values to see spread of data\n",
    "sns.boxplot(data=df, x='DeltaGsolv')"
   ]
  },
  {
   "cell_type": "code",
   "execution_count": null,
   "id": "28733759-917a-4465-a001-e3809928f386",
   "metadata": {},
   "outputs": [],
   "source": []
  }
 ],
 "metadata": {
  "kernelspec": {
   "display_name": "Python 3 (ipykernel)",
   "language": "python",
   "name": "python3"
  },
  "language_info": {
   "codemirror_mode": {
    "name": "ipython",
    "version": 3
   },
   "file_extension": ".py",
   "mimetype": "text/x-python",
   "name": "python",
   "nbconvert_exporter": "python",
   "pygments_lexer": "ipython3",
   "version": "3.9.7"
  }
 },
 "nbformat": 4,
 "nbformat_minor": 5
}
