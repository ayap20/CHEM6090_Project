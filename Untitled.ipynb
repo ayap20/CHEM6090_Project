{
 "cells": [
  {
   "cell_type": "code",
   "execution_count": 1,
   "id": "b1fcb5cc-efb8-4ad0-89dc-774cccc74527",
   "metadata": {},
   "outputs": [],
   "source": [
    "import numpy as np"
   ]
  },
  {
   "cell_type": "code",
   "execution_count": 2,
   "id": "2d17ead6-0f2e-4318-93c6-73de49df5a4a",
   "metadata": {},
   "outputs": [],
   "source": [
    "data = np.fromfile('henry.f90')"
   ]
  },
  {
   "cell_type": "code",
   "execution_count": 3,
   "id": "55a6dd97-95b2-4f91-ad8b-a58d274ff8fd",
   "metadata": {},
   "outputs": [
    {
     "data": {
      "text/plain": [
       "array([1.42602582e-105, 1.42602582e-105, 1.42602582e-105, ...,\n",
       "       1.42602582e-105, 1.42602582e-105, 1.42602582e-105])"
      ]
     },
     "execution_count": 3,
     "metadata": {},
     "output_type": "execute_result"
    }
   ],
   "source": [
    "data"
   ]
  },
  {
   "cell_type": "code",
   "execution_count": 5,
   "id": "83a9c298-c5a1-4347-995b-fb8be70d673c",
   "metadata": {},
   "outputs": [
    {
     "ename": "ValueError",
     "evalue": "cannot reshape array of size 75585 into shape (2,)",
     "output_type": "error",
     "traceback": [
      "\u001b[1;31m---------------------------------------------------------------------------\u001b[0m",
      "\u001b[1;31mValueError\u001b[0m                                Traceback (most recent call last)",
      "\u001b[1;32m~\\AppData\\Local\\Temp/ipykernel_8512/3680118981.py\u001b[0m in \u001b[0;36m<module>\u001b[1;34m\u001b[0m\n\u001b[1;32m----> 1\u001b[1;33m \u001b[0mresults\u001b[0m \u001b[1;33m=\u001b[0m \u001b[0mdata\u001b[0m\u001b[1;33m.\u001b[0m\u001b[0mreshape\u001b[0m\u001b[1;33m(\u001b[0m\u001b[1;36m2\u001b[0m\u001b[1;33m)\u001b[0m\u001b[1;33m\u001b[0m\u001b[1;33m\u001b[0m\u001b[0m\n\u001b[0m",
      "\u001b[1;31mValueError\u001b[0m: cannot reshape array of size 75585 into shape (2,)"
     ]
    }
   ],
   "source": [
    "results = data.reshape(2)"
   ]
  },
  {
   "cell_type": "code",
   "execution_count": null,
   "id": "23ce5844-256a-4989-8cb2-086ccc1cc957",
   "metadata": {},
   "outputs": [],
   "source": []
  }
 ],
 "metadata": {
  "kernelspec": {
   "display_name": "Python 3",
   "language": "python",
   "name": "python3"
  },
  "language_info": {
   "codemirror_mode": {
    "name": "ipython",
    "version": 3
   },
   "file_extension": ".py",
   "mimetype": "text/x-python",
   "name": "python",
   "nbconvert_exporter": "python",
   "pygments_lexer": "ipython3",
   "version": "3.8.8"
  }
 },
 "nbformat": 4,
 "nbformat_minor": 5
}
