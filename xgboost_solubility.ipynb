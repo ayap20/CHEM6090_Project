{
 "cells": [
  {
   "cell_type": "markdown",
   "id": "e6bd0194-82eb-4525-a5db-b32180ee3420",
   "metadata": {},
   "source": [
    "# XGboost regression for solubility prediction"
   ]
  },
  {
   "cell_type": "code",
   "execution_count": 1,
   "id": "78f4fdde-0cf3-4553-a838-6988d68cfaed",
   "metadata": {},
   "outputs": [],
   "source": [
    "import pandas as pd\n",
    "import numpy as np\n",
    "import seaborn as sns\n",
    "import xgboost as xgb\n",
    "import matplotlib.pyplot as plt\n",
    "\n",
    "from sklearn.model_selection import train_test_split\n",
    "from sklearn.metrics import mean_squared_error"
   ]
  },
  {
   "cell_type": "code",
   "execution_count": 2,
   "id": "a6b965cf-02f9-481a-b766-ef90513c2ca0",
   "metadata": {},
   "outputs": [],
   "source": [
    "# load dataset we are using\n",
    "df = pd.read_csv('curated_aqsoldb.csv')"
   ]
  },
  {
   "cell_type": "code",
   "execution_count": 3,
   "id": "d46834bb-3a41-4646-867b-fdb33a1cf137",
   "metadata": {},
   "outputs": [
    {
     "data": {
      "text/html": [
       "<div>\n",
       "<style scoped>\n",
       "    .dataframe tbody tr th:only-of-type {\n",
       "        vertical-align: middle;\n",
       "    }\n",
       "\n",
       "    .dataframe tbody tr th {\n",
       "        vertical-align: top;\n",
       "    }\n",
       "\n",
       "    .dataframe thead th {\n",
       "        text-align: right;\n",
       "    }\n",
       "</style>\n",
       "<table border=\"1\" class=\"dataframe\">\n",
       "  <thead>\n",
       "    <tr style=\"text-align: right;\">\n",
       "      <th></th>\n",
       "      <th>MolLogP</th>\n",
       "      <th>MolWt</th>\n",
       "      <th>NumRotatableBonds</th>\n",
       "      <th>AP</th>\n",
       "    </tr>\n",
       "  </thead>\n",
       "  <tbody>\n",
       "    <tr>\n",
       "      <th>0</th>\n",
       "      <td>3.95810</td>\n",
       "      <td>392.510</td>\n",
       "      <td>17.0</td>\n",
       "      <td>0.000000</td>\n",
       "    </tr>\n",
       "    <tr>\n",
       "      <th>1</th>\n",
       "      <td>2.40550</td>\n",
       "      <td>169.183</td>\n",
       "      <td>0.0</td>\n",
       "      <td>0.769231</td>\n",
       "    </tr>\n",
       "    <tr>\n",
       "      <th>2</th>\n",
       "      <td>2.15250</td>\n",
       "      <td>140.569</td>\n",
       "      <td>1.0</td>\n",
       "      <td>0.666667</td>\n",
       "    </tr>\n",
       "    <tr>\n",
       "      <th>3</th>\n",
       "      <td>8.11610</td>\n",
       "      <td>756.226</td>\n",
       "      <td>10.0</td>\n",
       "      <td>0.679245</td>\n",
       "    </tr>\n",
       "    <tr>\n",
       "      <th>4</th>\n",
       "      <td>2.48540</td>\n",
       "      <td>422.525</td>\n",
       "      <td>12.0</td>\n",
       "      <td>0.387097</td>\n",
       "    </tr>\n",
       "    <tr>\n",
       "      <th>...</th>\n",
       "      <td>...</td>\n",
       "      <td>...</td>\n",
       "      <td>...</td>\n",
       "      <td>...</td>\n",
       "    </tr>\n",
       "    <tr>\n",
       "      <th>10058</th>\n",
       "      <td>2.61700</td>\n",
       "      <td>264.369</td>\n",
       "      <td>8.0</td>\n",
       "      <td>0.315789</td>\n",
       "    </tr>\n",
       "    <tr>\n",
       "      <th>10059</th>\n",
       "      <td>-0.21440</td>\n",
       "      <td>444.440</td>\n",
       "      <td>2.0</td>\n",
       "      <td>0.187500</td>\n",
       "    </tr>\n",
       "    <tr>\n",
       "      <th>10060</th>\n",
       "      <td>2.82402</td>\n",
       "      <td>150.221</td>\n",
       "      <td>1.0</td>\n",
       "      <td>0.545455</td>\n",
       "    </tr>\n",
       "    <tr>\n",
       "      <th>10061</th>\n",
       "      <td>5.09308</td>\n",
       "      <td>454.611</td>\n",
       "      <td>13.0</td>\n",
       "      <td>0.363636</td>\n",
       "    </tr>\n",
       "    <tr>\n",
       "      <th>10062</th>\n",
       "      <td>3.60960</td>\n",
       "      <td>308.333</td>\n",
       "      <td>4.0</td>\n",
       "      <td>0.695652</td>\n",
       "    </tr>\n",
       "  </tbody>\n",
       "</table>\n",
       "<p>10063 rows × 4 columns</p>\n",
       "</div>"
      ],
      "text/plain": [
       "       MolLogP    MolWt  NumRotatableBonds        AP\n",
       "0      3.95810  392.510               17.0  0.000000\n",
       "1      2.40550  169.183                0.0  0.769231\n",
       "2      2.15250  140.569                1.0  0.666667\n",
       "3      8.11610  756.226               10.0  0.679245\n",
       "4      2.48540  422.525               12.0  0.387097\n",
       "...        ...      ...                ...       ...\n",
       "10058  2.61700  264.369                8.0  0.315789\n",
       "10059 -0.21440  444.440                2.0  0.187500\n",
       "10060  2.82402  150.221                1.0  0.545455\n",
       "10061  5.09308  454.611               13.0  0.363636\n",
       "10062  3.60960  308.333                4.0  0.695652\n",
       "\n",
       "[10063 rows x 4 columns]"
      ]
     },
     "execution_count": 3,
     "metadata": {},
     "output_type": "execute_result"
    }
   ],
   "source": [
    "# creating x matrix from descriptors chosen\n",
    "x = df[['MolLogP', 'MolWt', 'NumRotatableBonds', 'AP']]\n",
    "x"
   ]
  },
  {
   "cell_type": "code",
   "execution_count": 4,
   "id": "9f120b36-0a1e-4aef-84ee-29f27202f345",
   "metadata": {},
   "outputs": [],
   "source": [
    "# creating y matrix from Solubility values\n",
    "y = df['Solubility']"
   ]
  },
  {
   "cell_type": "code",
   "execution_count": 5,
   "id": "29af8537-c2fa-4ffe-9150-b81d046d968b",
   "metadata": {},
   "outputs": [],
   "source": [
    "# split dataset into training and test sets\n",
    "x_train, x_test, y_train, y_test = train_test_split(x, y)"
   ]
  },
  {
   "cell_type": "markdown",
   "id": "44245d95-e1fd-4102-8cdc-1c3ed24e07d1",
   "metadata": {},
   "source": [
    "Dmatrix is an optimized data structure that XGboost uses. Here we will input our descriptors as the data parameter and solubility values as the label parameter."
   ]
  },
  {
   "cell_type": "code",
   "execution_count": 6,
   "id": "12a91106-943f-4436-bb20-5a8df0422e06",
   "metadata": {},
   "outputs": [],
   "source": [
    "# create D matrix where data is the descriptors being used and label is the solubility values\n",
    "dmatrix = xgb.DMatrix(data=x,label=y)"
   ]
  },
  {
   "cell_type": "code",
   "execution_count": 7,
   "id": "ba381c29-1eec-4b2e-a2f1-1653573bb805",
   "metadata": {},
   "outputs": [],
   "source": [
    "xg_reg = xgb.XGBRegressor(objective ='reg:squarederror', colsample_bytree = 0.3, learning_rate = 0.1,\n",
    "                max_depth = 5, alpha = 10, n_estimators = 10)"
   ]
  },
  {
   "cell_type": "code",
   "execution_count": 8,
   "id": "002408b2-e9cb-4b99-a4ae-96843b5aa144",
   "metadata": {},
   "outputs": [
    {
     "data": {
      "text/plain": [
       "XGBRegressor(alpha=10, base_score=0.5, booster='gbtree', colsample_bylevel=1,\n",
       "             colsample_bynode=1, colsample_bytree=0.3, enable_categorical=False,\n",
       "             gamma=0, gpu_id=-1, importance_type=None,\n",
       "             interaction_constraints='', learning_rate=0.1, max_delta_step=0,\n",
       "             max_depth=5, min_child_weight=1, missing=nan,\n",
       "             monotone_constraints='()', n_estimators=10, n_jobs=12,\n",
       "             num_parallel_tree=1, predictor='auto', random_state=0,\n",
       "             reg_alpha=10, reg_lambda=1, scale_pos_weight=1, subsample=1,\n",
       "             tree_method='exact', validate_parameters=1, verbosity=None)"
      ]
     },
     "execution_count": 8,
     "metadata": {},
     "output_type": "execute_result"
    }
   ],
   "source": [
    "xg_reg.fit(x_train,y_train)"
   ]
  },
  {
   "cell_type": "code",
   "execution_count": 9,
   "id": "34cab447-bf70-4dc6-81fb-fd3d25f7a840",
   "metadata": {},
   "outputs": [],
   "source": [
    "y_predict = xg_reg.predict(x_test)"
   ]
  },
  {
   "cell_type": "code",
   "execution_count": 10,
   "id": "0fad7a1e-fe97-401f-95ab-b62de3a3608e",
   "metadata": {},
   "outputs": [
    {
     "data": {
      "text/plain": [
       "<matplotlib.collections.PolyCollection at 0x12f20367bb0>"
      ]
     },
     "execution_count": 10,
     "metadata": {},
     "output_type": "execute_result"
    },
    {
     "data": {
      "image/png": "[encoded data removed]",
      "text/plain": [
       "<Figure size 432x288 with 1 Axes>"
      ]
     },
     "metadata": {
      "needs_background": "light"
     },
     "output_type": "display_data"
    }
   ],
   "source": [
    "sns.scatterplot(x=y_test, y=y_predict, s=3).set(title='XGboost for predicting solubility', xlabel='experimental solubility values', ylabel='predicted solubility values')\n",
    "\n",
    "plt.xlim(-12, 2)\n",
    "plt.ylim(-12, 2)\n",
    "\n",
    "# plot x=y line showing where accurate predictions lie\n",
    "sns.lineplot(x=[-12, 2], y=[-12, 2], alpha=1)\n",
    "\n",
    "# shaded areas show values that lie within the accepted +- 0.5 error zone\n",
    "exp_value = np.arange(-12, 3)\n",
    "upper_bound = exp_value + 0.5\n",
    "lower_bound = exp_value - 0.5\n",
    "plt.fill_between(exp_value, upper_bound, lower_bound, color='steelblue', alpha=0.4)"
   ]
  },
  {
   "cell_type": "code",
   "execution_count": 11,
   "id": "544f5524-7189-4faf-861d-1490b88249d9",
   "metadata": {},
   "outputs": [],
   "source": [
    "xg_reg = xgb.train(params={\"objective\":\"reg:squarederror\",'colsample_bytree': 0.3,'learning_rate': 0.1,'max_depth': 5, 'alpha': 10}, dtrain=dmatrix, num_boost_round=10)"
   ]
  },
  {
   "cell_type": "code",
   "execution_count": 12,
   "id": "a07637e9-34a6-466a-b283-1d77f4e17e59",
   "metadata": {},
   "outputs": [
    {
     "ename": "TypeError",
     "evalue": "('Expecting data to be a DMatrix object, got: ', <class 'pandas.core.frame.DataFrame'>)",
     "output_type": "error",
     "traceback": [
      "\u001b[1;31m---------------------------------------------------------------------------\u001b[0m",
      "\u001b[1;31mTypeError\u001b[0m                                 Traceback (most recent call last)",
      "\u001b[1;32m<ipython-input-12-9a8b69c7901b>\u001b[0m in \u001b[0;36m<module>\u001b[1;34m\u001b[0m\n\u001b[1;32m----> 1\u001b[1;33m \u001b[0my_predict\u001b[0m \u001b[1;33m=\u001b[0m \u001b[0mxg_reg\u001b[0m\u001b[1;33m.\u001b[0m\u001b[0mpredict\u001b[0m\u001b[1;33m(\u001b[0m\u001b[0mx_test\u001b[0m\u001b[1;33m)\u001b[0m\u001b[1;33m\u001b[0m\u001b[1;33m\u001b[0m\u001b[0m\n\u001b[0m",
      "\u001b[1;32m~\\anaconda3\\lib\\site-packages\\xgboost\\core.py\u001b[0m in \u001b[0;36mpredict\u001b[1;34m(self, data, output_margin, ntree_limit, pred_leaf, pred_contribs, approx_contribs, pred_interactions, validate_features, training, iteration_range, strict_shape)\u001b[0m\n\u001b[0;32m   1883\u001b[0m         \"\"\"\n\u001b[0;32m   1884\u001b[0m         \u001b[1;32mif\u001b[0m \u001b[1;32mnot\u001b[0m \u001b[0misinstance\u001b[0m\u001b[1;33m(\u001b[0m\u001b[0mdata\u001b[0m\u001b[1;33m,\u001b[0m \u001b[0mDMatrix\u001b[0m\u001b[1;33m)\u001b[0m\u001b[1;33m:\u001b[0m\u001b[1;33m\u001b[0m\u001b[1;33m\u001b[0m\u001b[0m\n\u001b[1;32m-> 1885\u001b[1;33m             \u001b[1;32mraise\u001b[0m \u001b[0mTypeError\u001b[0m\u001b[1;33m(\u001b[0m\u001b[1;34m'Expecting data to be a DMatrix object, got: '\u001b[0m\u001b[1;33m,\u001b[0m \u001b[0mtype\u001b[0m\u001b[1;33m(\u001b[0m\u001b[0mdata\u001b[0m\u001b[1;33m)\u001b[0m\u001b[1;33m)\u001b[0m\u001b[1;33m\u001b[0m\u001b[1;33m\u001b[0m\u001b[0m\n\u001b[0m\u001b[0;32m   1886\u001b[0m         \u001b[1;32mif\u001b[0m \u001b[0mvalidate_features\u001b[0m\u001b[1;33m:\u001b[0m\u001b[1;33m\u001b[0m\u001b[1;33m\u001b[0m\u001b[0m\n\u001b[0;32m   1887\u001b[0m             \u001b[0mself\u001b[0m\u001b[1;33m.\u001b[0m\u001b[0m_validate_features\u001b[0m\u001b[1;33m(\u001b[0m\u001b[0mdata\u001b[0m\u001b[1;33m)\u001b[0m\u001b[1;33m\u001b[0m\u001b[1;33m\u001b[0m\u001b[0m\n",
      "\u001b[1;31mTypeError\u001b[0m: ('Expecting data to be a DMatrix object, got: ', <class 'pandas.core.frame.DataFrame'>)"
     ]
    }
   ],
   "source": [
    "y_predict = xg_reg.predict(x_test)"
   ]
  },
  {
   "cell_type": "code",
   "execution_count": null,
   "id": "2145067b-8430-4389-9f8e-49fe4f3a8736",
   "metadata": {},
   "outputs": [],
   "source": [
    "sns.scatterplot(x=y_test, y=y_predict, s=3).set(title='XGboost for predicting solubility', xlabel='experimental solubility values', ylabel='predicted solubility values')\n",
    "\n",
    "plt.xlim(-12, 2)\n",
    "plt.ylim(-12, 2)\n",
    "\n",
    "# plot x=y line showing where accurate predictions lie\n",
    "sns.lineplot(x=[-12, 2], y=[-12, 2], alpha=1)\n",
    "\n",
    "# shaded areas show values that lie within the accepted +- 0.5 error zone\n",
    "exp_value = np.arange(-12, 3)\n",
    "upper_bound = exp_value + 0.5\n",
    "lower_bound = exp_value - 0.5\n",
    "plt.fill_between(exp_value, upper_bound, lower_bound, color='steelblue', alpha=0.4)"
   ]
  },
  {
   "cell_type": "code",
   "execution_count": null,
   "id": "587063b4-9e65-465f-bce1-96f980af4ec8",
   "metadata": {},
   "outputs": [],
   "source": [
    "cv_results = xgb.cv(dtrain=dmatrix, params={\"objective\":\"reg:squarederror\",'colsample_bytree': 0.3,'learning_rate': 0.1,'max_depth': 5, 'alpha': 10}, nfold=3,num_boost_round=50,early_stopping_rounds=10,metrics=\"rmse\", as_pandas=True, seed=123)"
   ]
  },
  {
   "cell_type": "code",
   "execution_count": null,
   "id": "c4fe5073-7837-4c27-9724-e74df6615ce0",
   "metadata": {},
   "outputs": [],
   "source": [
    "xgb.plot_tree(xg_reg,num_trees=0)\n",
    "plt.rcParams['figure.figsize'] = [50, 50]\n",
    "plt.savefig('tree.jpg', dpi=500)\n",
    "plt.show()"
   ]
  },
  {
   "cell_type": "code",
   "execution_count": null,
   "id": "22764fc4-85fa-4b83-addf-4ec335d607d4",
   "metadata": {},
   "outputs": [],
   "source": [
    "xgb.plot_importance(xg_reg)\n",
    "plt.rcParams['figure.figsize'] = [5, 5]\n",
    "plt.show()"
   ]
  },
  {
   "cell_type": "code",
   "execution_count": null,
   "id": "df5700fd-1bd8-40b8-8ceb-8d81ab787f66",
   "metadata": {},
   "outputs": [],
   "source": []
  }
 ],
 "metadata": {
  "kernelspec": {
   "display_name": "Python 3",
   "language": "python",
   "name": "python3"
  },
  "language_info": {
   "codemirror_mode": {
    "name": "ipython",
    "version": 3
   },
   "file_extension": ".py",
   "mimetype": "text/x-python",
   "name": "python",
   "nbconvert_exporter": "python",
   "pygments_lexer": "ipython3",
   "version": "3.8.8"
  }
 },
 "nbformat": 4,
 "nbformat_minor": 5
}
