{
 "cells": [
  {
   "cell_type": "markdown",
   "id": "e6bd0194-82eb-4525-a5db-b32180ee3420",
   "metadata": {},
   "source": [
    "# XGboost regression for solubility prediction"
   ]
  },
  {
   "cell_type": "code",
   "execution_count": 11,
   "id": "78f4fdde-0cf3-4553-a838-6988d68cfaed",
   "metadata": {},
   "outputs": [],
   "source": [
    "import pandas as pd\n",
    "import numpy as np\n",
    "import seaborn as sns\n",
    "import xgboost as xgb\n",
    "import matplotlib.pyplot as plt\n",
    "\n",
    "from sklearn.model_selection import train_test_split\n",
    "from sklearn.model_selection import GridSearchCV\n",
    "from sklearn.model_selection import RepeatedKFold\n",
    "from sklearn.metrics import mean_squared_error"
   ]
  },
  {
   "cell_type": "code",
   "execution_count": 4,
   "id": "a6b965cf-02f9-481a-b766-ef90513c2ca0",
   "metadata": {},
   "outputs": [],
   "source": [
    "# load dataset we are using\n",
    "df = pd.read_csv('curated_aqsoldb.csv')"
   ]
  },
  {
   "cell_type": "code",
   "execution_count": 5,
   "id": "d46834bb-3a41-4646-867b-fdb33a1cf137",
   "metadata": {},
   "outputs": [
    {
     "data": {
      "text/html": [
       "<div>\n",
       "<style scoped>\n",
       "    .dataframe tbody tr th:only-of-type {\n",
       "        vertical-align: middle;\n",
       "    }\n",
       "\n",
       "    .dataframe tbody tr th {\n",
       "        vertical-align: top;\n",
       "    }\n",
       "\n",
       "    .dataframe thead th {\n",
       "        text-align: right;\n",
       "    }\n",
       "</style>\n",
       "<table border=\"1\" class=\"dataframe\">\n",
       "  <thead>\n",
       "    <tr style=\"text-align: right;\">\n",
       "      <th></th>\n",
       "      <th>MolLogP</th>\n",
       "      <th>MolWt</th>\n",
       "      <th>NumRotatableBonds</th>\n",
       "      <th>AP</th>\n",
       "    </tr>\n",
       "  </thead>\n",
       "  <tbody>\n",
       "    <tr>\n",
       "      <th>0</th>\n",
       "      <td>3.95810</td>\n",
       "      <td>392.510</td>\n",
       "      <td>17.0</td>\n",
       "      <td>0.000000</td>\n",
       "    </tr>\n",
       "    <tr>\n",
       "      <th>1</th>\n",
       "      <td>2.40550</td>\n",
       "      <td>169.183</td>\n",
       "      <td>0.0</td>\n",
       "      <td>0.769231</td>\n",
       "    </tr>\n",
       "    <tr>\n",
       "      <th>2</th>\n",
       "      <td>2.15250</td>\n",
       "      <td>140.569</td>\n",
       "      <td>1.0</td>\n",
       "      <td>0.666667</td>\n",
       "    </tr>\n",
       "    <tr>\n",
       "      <th>3</th>\n",
       "      <td>8.11610</td>\n",
       "      <td>756.226</td>\n",
       "      <td>10.0</td>\n",
       "      <td>0.679245</td>\n",
       "    </tr>\n",
       "    <tr>\n",
       "      <th>4</th>\n",
       "      <td>2.48540</td>\n",
       "      <td>422.525</td>\n",
       "      <td>12.0</td>\n",
       "      <td>0.387097</td>\n",
       "    </tr>\n",
       "    <tr>\n",
       "      <th>...</th>\n",
       "      <td>...</td>\n",
       "      <td>...</td>\n",
       "      <td>...</td>\n",
       "      <td>...</td>\n",
       "    </tr>\n",
       "    <tr>\n",
       "      <th>10058</th>\n",
       "      <td>2.61700</td>\n",
       "      <td>264.369</td>\n",
       "      <td>8.0</td>\n",
       "      <td>0.315789</td>\n",
       "    </tr>\n",
       "    <tr>\n",
       "      <th>10059</th>\n",
       "      <td>-0.21440</td>\n",
       "      <td>444.440</td>\n",
       "      <td>2.0</td>\n",
       "      <td>0.187500</td>\n",
       "    </tr>\n",
       "    <tr>\n",
       "      <th>10060</th>\n",
       "      <td>2.82402</td>\n",
       "      <td>150.221</td>\n",
       "      <td>1.0</td>\n",
       "      <td>0.545455</td>\n",
       "    </tr>\n",
       "    <tr>\n",
       "      <th>10061</th>\n",
       "      <td>5.09308</td>\n",
       "      <td>454.611</td>\n",
       "      <td>13.0</td>\n",
       "      <td>0.363636</td>\n",
       "    </tr>\n",
       "    <tr>\n",
       "      <th>10062</th>\n",
       "      <td>3.60960</td>\n",
       "      <td>308.333</td>\n",
       "      <td>4.0</td>\n",
       "      <td>0.695652</td>\n",
       "    </tr>\n",
       "  </tbody>\n",
       "</table>\n",
       "<p>10063 rows × 4 columns</p>\n",
       "</div>"
      ],
      "text/plain": [
       "       MolLogP    MolWt  NumRotatableBonds        AP\n",
       "0      3.95810  392.510               17.0  0.000000\n",
       "1      2.40550  169.183                0.0  0.769231\n",
       "2      2.15250  140.569                1.0  0.666667\n",
       "3      8.11610  756.226               10.0  0.679245\n",
       "4      2.48540  422.525               12.0  0.387097\n",
       "...        ...      ...                ...       ...\n",
       "10058  2.61700  264.369                8.0  0.315789\n",
       "10059 -0.21440  444.440                2.0  0.187500\n",
       "10060  2.82402  150.221                1.0  0.545455\n",
       "10061  5.09308  454.611               13.0  0.363636\n",
       "10062  3.60960  308.333                4.0  0.695652\n",
       "\n",
       "[10063 rows x 4 columns]"
      ]
     },
     "execution_count": 5,
     "metadata": {},
     "output_type": "execute_result"
    }
   ],
   "source": [
    "# creating x matrix from descriptors chosen\n",
    "x = df[['MolLogP', 'MolWt', 'NumRotatableBonds', 'AP']]\n",
    "x"
   ]
  },
  {
   "cell_type": "code",
   "execution_count": 6,
   "id": "9f120b36-0a1e-4aef-84ee-29f27202f345",
   "metadata": {},
   "outputs": [],
   "source": [
    "# creating y matrix from Solubility values\n",
    "y = df['Solubility']"
   ]
  },
  {
   "cell_type": "code",
   "execution_count": 7,
   "id": "29af8537-c2fa-4ffe-9150-b81d046d968b",
   "metadata": {},
   "outputs": [],
   "source": [
    "# split dataset into training and test sets\n",
    "x_train, x_test, y_train, y_test = train_test_split(x, y)"
   ]
  },
  {
   "cell_type": "markdown",
   "id": "44245d95-e1fd-4102-8cdc-1c3ed24e07d1",
   "metadata": {},
   "source": [
    "Dmatrix is an optimized data structure that XGboost uses. Here we will input our descriptors as the data parameter and solubility values as the label parameter."
   ]
  },
  {
   "cell_type": "code",
   "execution_count": 6,
   "id": "12a91106-943f-4436-bb20-5a8df0422e06",
   "metadata": {},
   "outputs": [],
   "source": [
    "# create D matrix where data is the descriptors being used and label is the solubility values\n",
    "dtrain = xgb.DMatrix(data=x_train,label=y_train)"
   ]
  },
  {
   "cell_type": "code",
   "execution_count": 7,
   "id": "ba381c29-1eec-4b2e-a2f1-1653573bb805",
   "metadata": {},
   "outputs": [],
   "source": [
    "xg_reg = xgb.XGBRegressor(objective ='reg:squarederror', colsample_bytree = 0.8, learning_rate = 0.1, max_depth = 7, n_estimators = 1000)"
   ]
  },
  {
   "cell_type": "code",
   "execution_count": 8,
   "id": "002408b2-e9cb-4b99-a4ae-96843b5aa144",
   "metadata": {},
   "outputs": [
    {
     "data": {
      "text/plain": [
       "XGBRegressor(base_score=0.5, booster='gbtree', colsample_bylevel=1,\n",
       "             colsample_bynode=1, colsample_bytree=0.8, enable_categorical=False,\n",
       "             gamma=0, gpu_id=-1, importance_type=None,\n",
       "             interaction_constraints='', learning_rate=0.1, max_delta_step=0,\n",
       "             max_depth=7, min_child_weight=1, missing=nan,\n",
       "             monotone_constraints='()', n_estimators=1000, n_jobs=12,\n",
       "             num_parallel_tree=1, predictor='auto', random_state=0, reg_alpha=0,\n",
       "             reg_lambda=1, scale_pos_weight=1, subsample=1, tree_method='exact',\n",
       "             validate_parameters=1, verbosity=None)"
      ]
     },
     "execution_count": 8,
     "metadata": {},
     "output_type": "execute_result"
    }
   ],
   "source": [
    "xg_reg.fit(x_train,y_train)"
   ]
  },
  {
   "cell_type": "code",
   "execution_count": 9,
   "id": "34cab447-bf70-4dc6-81fb-fd3d25f7a840",
   "metadata": {},
   "outputs": [],
   "source": [
    "y_predict = xg_reg.predict(x_test)"
   ]
  },
  {
   "cell_type": "code",
   "execution_count": 10,
   "id": "0fad7a1e-fe97-401f-95ab-b62de3a3608e",
   "metadata": {},
   "outputs": [
    {
     "data": {
      "text/plain": [
       "<matplotlib.collections.PolyCollection at 0x247d5d2f190>"
      ]
     },
     "execution_count": 10,
     "metadata": {},
     "output_type": "execute_result"
    },
    {
     "data": {
      "image/png": "[encoded data removed]",
      "text/plain": [
       "<Figure size 432x288 with 1 Axes>"
      ]
     },
     "metadata": {
      "needs_background": "light"
     },
     "output_type": "display_data"
    }
   ],
   "source": [
    "sns.scatterplot(x=y_test, y=y_predict, s=3).set(title='XGboost for predicting solubility', xlabel='experimental solubility values', ylabel='predicted solubility values')\n",
    "\n",
    "plt.xlim(-12, 2)\n",
    "plt.ylim(-12, 2)\n",
    "\n",
    "# plot x=y line showing where accurate predictions lie\n",
    "sns.lineplot(x=[-12, 2], y=[-12, 2], alpha=1)\n",
    "\n",
    "# shaded areas show values that lie within the accepted +- 0.5 error zone\n",
    "exp_value = np.arange(-12, 3)\n",
    "upper_bound = exp_value + 0.5\n",
    "lower_bound = exp_value - 0.5\n",
    "plt.fill_between(exp_value, upper_bound, lower_bound, color='steelblue', alpha=0.4)"
   ]
  },
  {
   "cell_type": "code",
   "execution_count": 11,
   "id": "27e4584e-8f87-4079-83e1-64563bf870fd",
   "metadata": {},
   "outputs": [],
   "source": [
    "# check how many values fall within the allowed error boundary (of 0.5)\n",
    "good_value_count = 0\n",
    "for pred, exp in zip(y_predict, y_test):\n",
    "    if exp - 0.5 <= pred <= exp + 0.5:\n",
    "        good_value_count += 1"
   ]
  },
  {
   "cell_type": "code",
   "execution_count": 12,
   "id": "59732c93-bba6-4498-a6ca-be4bfcacfc2f",
   "metadata": {},
   "outputs": [
    {
     "data": {
      "text/plain": [
       "1111"
      ]
     },
     "execution_count": 12,
     "metadata": {},
     "output_type": "execute_result"
    }
   ],
   "source": [
    "good_value_count"
   ]
  },
  {
   "cell_type": "code",
   "execution_count": 14,
   "id": "f80b4f73-aec7-492f-88d0-ba486d45e585",
   "metadata": {},
   "outputs": [
    {
     "data": {
      "text/plain": [
       "2516"
      ]
     },
     "execution_count": 14,
     "metadata": {},
     "output_type": "execute_result"
    }
   ],
   "source": [
    "len(y_test)"
   ]
  },
  {
   "cell_type": "code",
   "execution_count": 16,
   "id": "1e6b18e5-8fd9-4fd5-8111-96cf120a6624",
   "metadata": {},
   "outputs": [
    {
     "name": "stdout",
     "output_type": "stream",
     "text": [
      "So 44.15739268680446 % of the test set are predicted within 0.5 of the experimental values.\n"
     ]
    }
   ],
   "source": [
    "print ('So', good_value_count / len(y_test) * 100,'% of the test set are predicted within 0.5 of the experimental values.')"
   ]
  },
  {
   "cell_type": "markdown",
   "id": "e25a0efa-8b81-4e8f-9a06-8426f7c0d65c",
   "metadata": {},
   "source": [
    "### Hypertuning Parameters"
   ]
  },
  {
   "cell_type": "code",
   "execution_count": 25,
   "id": "67e8291c-2514-4786-8dc4-1e33d63fadf6",
   "metadata": {},
   "outputs": [],
   "source": [
    "param_grid = { 'max_depth': [3,6,10],\n",
    "               'learning_rate': [0.01, 0.05, 0.1],\n",
    "               'n_estimators': [100, 500, 1000],\n",
    "               'colsample_bytree': [0.3, 0.7]}"
   ]
  },
  {
   "cell_type": "code",
   "execution_count": 26,
   "id": "7f3bd156-8400-4e69-9eb9-632a887638e5",
   "metadata": {},
   "outputs": [],
   "source": [
    "xgbr = xgb.XGBRegressor()"
   ]
  },
  {
   "cell_type": "code",
   "execution_count": 27,
   "id": "f3744d36-ae39-4f48-a2c8-7df746e9827d",
   "metadata": {},
   "outputs": [],
   "source": [
    "cvFold = RepeatedKFold(n_splits=10, n_repeats=3, random_state=1)\n",
    "xgbr_grid = GridSearchCV(estimator=xgbr, param_grid=param_grid, n_jobs=-1, cv=cvFold, scoring=\"r2\")\n",
    "results = xgbr_grid.fit(x_train, y_train)"
   ]
  },
  {
   "cell_type": "code",
   "execution_count": 28,
   "id": "1925c4e7-53c3-4515-9487-1a4282a978fb",
   "metadata": {},
   "outputs": [
    {
     "data": {
      "text/plain": [
       "{'colsample_bytree': 0.7,\n",
       " 'learning_rate': 0.01,\n",
       " 'max_depth': 6,\n",
       " 'n_estimators': 1000}"
      ]
     },
     "execution_count": 28,
     "metadata": {},
     "output_type": "execute_result"
    }
   ],
   "source": [
    "xgbr_grid.best_params_"
   ]
  },
  {
   "cell_type": "code",
   "execution_count": 29,
   "id": "f502adb7-4956-4913-b02a-00c50054c0df",
   "metadata": {},
   "outputs": [],
   "source": [
    "best_model = results.best_estimator_"
   ]
  },
  {
   "cell_type": "code",
   "execution_count": 30,
   "id": "10830751-bf28-45d6-908d-6b08c1f4265f",
   "metadata": {},
   "outputs": [
    {
     "data": {
      "text/plain": [
       "0.6915917295531415"
      ]
     },
     "execution_count": 30,
     "metadata": {},
     "output_type": "execute_result"
    }
   ],
   "source": [
    "best_model.score(x_test, y_test)"
   ]
  },
  {
   "cell_type": "code",
   "execution_count": 31,
   "id": "c824e5ba-f53d-4360-bab9-73ced51ae5f1",
   "metadata": {},
   "outputs": [
    {
     "data": {
      "text/plain": [
       "0.7998039449897413"
      ]
     },
     "execution_count": 31,
     "metadata": {},
     "output_type": "execute_result"
    }
   ],
   "source": [
    "best_model.score(x_train, y_train)"
   ]
  },
  {
   "cell_type": "code",
   "execution_count": 32,
   "id": "3331765a-471a-4ede-b9a7-3fecee3e1323",
   "metadata": {},
   "outputs": [],
   "source": [
    "y_tuned_predict = best_model.predict(x_test)"
   ]
  },
  {
   "cell_type": "code",
   "execution_count": 33,
   "id": "5bc952a1-4885-47b6-b54e-5b426ac885b3",
   "metadata": {},
   "outputs": [
    {
     "data": {
      "text/plain": [
       "<matplotlib.collections.PolyCollection at 0x26a65df9190>"
      ]
     },
     "execution_count": 33,
     "metadata": {},
     "output_type": "execute_result"
    },
    {
     "data": {
      "image/png": "[encoded data removed]",
      "text/plain": [
       "<Figure size 432x288 with 1 Axes>"
      ]
     },
     "metadata": {
      "needs_background": "light"
     },
     "output_type": "display_data"
    }
   ],
   "source": [
    "sns.scatterplot(x=y_test, y=y_tuned_predict, s=3).set(title='XGboost for predicting solubility', xlabel='experimental solubility values', ylabel='predicted solubility values')\n",
    "\n",
    "plt.xlim(-12, 2)\n",
    "plt.ylim(-12, 2)\n",
    "\n",
    "# plot x=y line showing where accurate predictions lie\n",
    "sns.lineplot(x=[-12, 2], y=[-12, 2], alpha=1)\n",
    "\n",
    "# shaded areas show values that lie within the accepted +- 0.5 error zone\n",
    "exp_value = np.arange(-12, 3)\n",
    "upper_bound = exp_value + 0.5\n",
    "lower_bound = exp_value - 0.5\n",
    "plt.fill_between(exp_value, upper_bound, lower_bound, color='steelblue', alpha=0.4)"
   ]
  },
  {
   "cell_type": "code",
   "execution_count": 34,
   "id": "0a45144a-f30e-484d-8feb-3b5cce519404",
   "metadata": {},
   "outputs": [],
   "source": [
    "# check how many values fall within the allowed error boundary (of 0.5)\n",
    "good_value_count = 0\n",
    "for pred, exp in zip(y_tuned_predict, y_test):\n",
    "    if exp - 0.5 <= pred <= exp + 0.5:\n",
    "        good_value_count += 1"
   ]
  },
  {
   "cell_type": "code",
   "execution_count": 35,
   "id": "3b42083f-a01b-4249-b8fe-f5b1aab808a2",
   "metadata": {},
   "outputs": [
    {
     "data": {
      "text/plain": [
       "1002"
      ]
     },
     "execution_count": 35,
     "metadata": {},
     "output_type": "execute_result"
    }
   ],
   "source": [
    "good_value_count"
   ]
  },
  {
   "cell_type": "code",
   "execution_count": 36,
   "id": "b4018048-9d5a-441c-bf89-e6c4872ff459",
   "metadata": {},
   "outputs": [
    {
     "data": {
      "text/plain": [
       "2516"
      ]
     },
     "execution_count": 36,
     "metadata": {},
     "output_type": "execute_result"
    }
   ],
   "source": [
    "len(y_test)"
   ]
  },
  {
   "cell_type": "code",
   "execution_count": 37,
   "id": "b893749f-52a8-448d-90d4-c381536920a6",
   "metadata": {},
   "outputs": [
    {
     "name": "stdout",
     "output_type": "stream",
     "text": [
      "So 39.82511923688394 % of the test set are predicted within 0.5 of the experimental values.\n"
     ]
    }
   ],
   "source": [
    "print ('So', good_value_count / len(y_test) * 100,'% of the test set are predicted within 0.5 of the experimental values.')"
   ]
  },
  {
   "cell_type": "code",
   "execution_count": null,
   "id": "a4af6c3c-670f-4bc0-ae57-46d324fa4db4",
   "metadata": {},
   "outputs": [],
   "source": []
  }
 ],
 "metadata": {
  "kernelspec": {
   "display_name": "Python 3",
   "language": "python",
   "name": "python3"
  },
  "language_info": {
   "codemirror_mode": {
    "name": "ipython",
    "version": 3
   },
   "file_extension": ".py",
   "mimetype": "text/x-python",
   "name": "python",
   "nbconvert_exporter": "python",
   "pygments_lexer": "ipython3",
   "version": "3.8.8"
  }
 },
 "nbformat": 4,
 "nbformat_minor": 5
}
