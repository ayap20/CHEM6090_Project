{
 "cells": [
  {
   "cell_type": "markdown",
   "id": "55dbe3d9-0a2a-43ab-8767-fd09c7903730",
   "metadata": {},
   "source": [
    "# Transforming Henry's Law Constants Dataset"
   ]
  },
  {
   "cell_type": "code",
   "execution_count": 1,
   "id": "2b84d628-cfe5-4ffd-8961-2ddaff2382e6",
   "metadata": {},
   "outputs": [],
   "source": [
    "import pandas as pd\n",
    "import numpy as np\n",
    "import re"
   ]
  },
  {
   "cell_type": "code",
   "execution_count": null,
   "id": "1931d785-89e8-4628-9b6a-3bc8657ceed0",
   "metadata": {},
   "outputs": [],
   "source": [
    "df['border'] = df.apply(lambda x: 1 if re.findall('^[a-z]', str(x[0])) else 0, axis = 1)\n",
    "df['row'] = df['border'].transform('cumsum')"
   ]
  }
 ],
 "metadata": {
  "kernelspec": {
   "display_name": "Python 3 (ipykernel)",
   "language": "python",
   "name": "python3"
  },
  "language_info": {
   "codemirror_mode": {
    "name": "ipython",
    "version": 3
   },
   "file_extension": ".py",
   "mimetype": "text/x-python",
   "name": "python",
   "nbconvert_exporter": "python",
   "pygments_lexer": "ipython3",
   "version": "3.7.11"
  }
 },
 "nbformat": 4,
 "nbformat_minor": 5
}
