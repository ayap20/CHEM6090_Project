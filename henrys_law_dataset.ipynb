{
 "cells": [
  {
   "cell_type": "markdown",
   "id": "977df709-b9c3-4536-89b0-a81c32f4b834",
   "metadata": {},
   "source": [
    "# Curating Henry's Law Dataset"
   ]
  },
  {
   "cell_type": "markdown",
   "id": "e95fb2b8-a611-4161-a737-0ec962505cdb",
   "metadata": {},
   "source": [
    "Henry's Law Constants data was scraped from pdf (https://acp.copernicus.org/articles/15/4399/2015/acp-15-4399-2015.pdf) using Tabula (https://tabula.technology/). The dataset must be cleaned up as Tabula made a few errors that need correcting, and also only the most reliable value constants must be selected and kept in the dataset. The end result should contain 4632 rows with 4632 unique species."
   ]
  },
  {
   "cell_type": "code",
   "execution_count": 1866,
   "id": "10ebbcfc-a11e-45a0-923b-417fd702ea8e",
   "metadata": {},
   "outputs": [],
   "source": [
    "import pandas as pd\n",
    "import numpy as np"
   ]
  },
  {
   "cell_type": "code",
   "execution_count": 1867,
   "id": "4069f279-63dd-421b-827d-f5ca8f6e366b",
   "metadata": {},
   "outputs": [],
   "source": [
    "# loading Henry's Law constants dataset as a dataframe\n",
    "df = pd.read_csv('henrys_law_constants.csv')"
   ]
  },
  {
   "cell_type": "code",
   "execution_count": 1868,
   "id": "2825bc95-a6bc-4264-bc88-743889dfb7db",
   "metadata": {},
   "outputs": [
    {
     "data": {
      "text/html": [
       "<div>\n",
       "<style scoped>\n",
       "    .dataframe tbody tr th:only-of-type {\n",
       "        vertical-align: middle;\n",
       "    }\n",
       "\n",
       "    .dataframe tbody tr th {\n",
       "        vertical-align: top;\n",
       "    }\n",
       "\n",
       "    .dataframe thead th {\n",
       "        text-align: right;\n",
       "    }\n",
       "</style>\n",
       "<table border=\"1\" class=\"dataframe\">\n",
       "  <thead>\n",
       "    <tr style=\"text-align: right;\">\n",
       "      <th></th>\n",
       "      <th>Unnamed: 0</th>\n",
       "      <th>cp</th>\n",
       "      <th>Unnamed: 2</th>\n",
       "      <th>Unnamed: 3</th>\n",
       "      <th>Unnamed: 4</th>\n",
       "      <th>Unnamed: 5</th>\n",
       "    </tr>\n",
       "  </thead>\n",
       "  <tbody>\n",
       "    <tr>\n",
       "      <th>0</th>\n",
       "      <td>Substance</td>\n",
       "      <td>H</td>\n",
       "      <td>NaN</td>\n",
       "      <td>NaN</td>\n",
       "      <td>NaN</td>\n",
       "      <td>NaN</td>\n",
       "    </tr>\n",
       "    <tr>\n",
       "      <th>1</th>\n",
       "      <td>Formula</td>\n",
       "      <td>(at T )</td>\n",
       "      <td>NaN</td>\n",
       "      <td>NaN</td>\n",
       "      <td>NaN</td>\n",
       "      <td>NaN</td>\n",
       "    </tr>\n",
       "    <tr>\n",
       "      <th>2</th>\n",
       "      <td>(Other name(s))</td>\n",
       "      <td>[ mol]</td>\n",
       "      <td>NaN</td>\n",
       "      <td>NaN</td>\n",
       "      <td>NaN</td>\n",
       "      <td>NaN</td>\n",
       "    </tr>\n",
       "    <tr>\n",
       "      <th>3</th>\n",
       "      <td>[CAS registry number]</td>\n",
       "      <td>m 3 Pa</td>\n",
       "      <td>NaN</td>\n",
       "      <td>NaN</td>\n",
       "      <td>NaN</td>\n",
       "      <td>NaN</td>\n",
       "    </tr>\n",
       "    <tr>\n",
       "      <th>4</th>\n",
       "      <td>NaN</td>\n",
       "      <td>Inorganic</td>\n",
       "      <td>NaN</td>\n",
       "      <td>NaN</td>\n",
       "      <td>NaN</td>\n",
       "      <td>NaN</td>\n",
       "    </tr>\n",
       "  </tbody>\n",
       "</table>\n",
       "</div>"
      ],
      "text/plain": [
       "              Unnamed: 0         cp Unnamed: 2 Unnamed: 3 Unnamed: 4  \\\n",
       "0              Substance          H        NaN        NaN        NaN   \n",
       "1                Formula    (at T )        NaN        NaN        NaN   \n",
       "2        (Other name(s))     [ mol]        NaN        NaN        NaN   \n",
       "3  [CAS registry number]     m 3 Pa        NaN        NaN        NaN   \n",
       "4                    NaN  Inorganic        NaN        NaN        NaN   \n",
       "\n",
       "  Unnamed: 5  \n",
       "0        NaN  \n",
       "1        NaN  \n",
       "2        NaN  \n",
       "3        NaN  \n",
       "4        NaN  "
      ]
     },
     "execution_count": 1868,
     "metadata": {},
     "output_type": "execute_result"
    }
   ],
   "source": [
    "df.head()"
   ]
  },
  {
   "cell_type": "code",
   "execution_count": 1869,
   "id": "5effd6e2-d5ea-4b3d-be43-07e3ef6d2227",
   "metadata": {},
   "outputs": [],
   "source": [
    "# delete empty columns on the right\n",
    "df = df.drop(df.columns[[2, 3, 4, 5]], axis=1)"
   ]
  },
  {
   "cell_type": "code",
   "execution_count": 1870,
   "id": "9e545078-f43b-40ad-abcc-230f7fd3991d",
   "metadata": {},
   "outputs": [
    {
     "data": {
      "text/html": [
       "<div>\n",
       "<style scoped>\n",
       "    .dataframe tbody tr th:only-of-type {\n",
       "        vertical-align: middle;\n",
       "    }\n",
       "\n",
       "    .dataframe tbody tr th {\n",
       "        vertical-align: top;\n",
       "    }\n",
       "\n",
       "    .dataframe thead th {\n",
       "        text-align: right;\n",
       "    }\n",
       "</style>\n",
       "<table border=\"1\" class=\"dataframe\">\n",
       "  <thead>\n",
       "    <tr style=\"text-align: right;\">\n",
       "      <th></th>\n",
       "      <th>Unnamed: 0</th>\n",
       "      <th>cp</th>\n",
       "    </tr>\n",
       "  </thead>\n",
       "  <tbody>\n",
       "    <tr>\n",
       "      <th>0</th>\n",
       "      <td>Substance</td>\n",
       "      <td>H</td>\n",
       "    </tr>\n",
       "    <tr>\n",
       "      <th>1</th>\n",
       "      <td>Formula</td>\n",
       "      <td>(at T )</td>\n",
       "    </tr>\n",
       "    <tr>\n",
       "      <th>2</th>\n",
       "      <td>(Other name(s))</td>\n",
       "      <td>[ mol]</td>\n",
       "    </tr>\n",
       "    <tr>\n",
       "      <th>3</th>\n",
       "      <td>[CAS registry number]</td>\n",
       "      <td>m 3 Pa</td>\n",
       "    </tr>\n",
       "    <tr>\n",
       "      <th>4</th>\n",
       "      <td>NaN</td>\n",
       "      <td>Inorganic</td>\n",
       "    </tr>\n",
       "    <tr>\n",
       "      <th>...</th>\n",
       "      <td>...</td>\n",
       "      <td>...</td>\n",
       "    </tr>\n",
       "    <tr>\n",
       "      <th>55352</th>\n",
       "      <td>U.: Assessment of chemical screening outcomes ...</td>\n",
       "      <td>NaN</td>\n",
       "    </tr>\n",
       "    <tr>\n",
       "      <th>55353</th>\n",
       "      <td>ent partitioning property estimation methods, ...</td>\n",
       "      <td>NaN</td>\n",
       "    </tr>\n",
       "    <tr>\n",
       "      <th>55354</th>\n",
       "      <td>514–520, 2010.</td>\n",
       "      <td>NaN</td>\n",
       "    </tr>\n",
       "    <tr>\n",
       "      <th>55355</th>\n",
       "      <td>Zhang, Z. and Pawliszyn, J.: Headspace solid-p...</td>\n",
       "      <td>NaN</td>\n",
       "    </tr>\n",
       "    <tr>\n",
       "      <th>55356</th>\n",
       "      <td>tion, Anal. Chem., 65, 1843–1852, 1993.</td>\n",
       "      <td>NaN</td>\n",
       "    </tr>\n",
       "  </tbody>\n",
       "</table>\n",
       "<p>55357 rows × 2 columns</p>\n",
       "</div>"
      ],
      "text/plain": [
       "                                              Unnamed: 0         cp\n",
       "0                                              Substance          H\n",
       "1                                                Formula    (at T )\n",
       "2                                        (Other name(s))     [ mol]\n",
       "3                                  [CAS registry number]     m 3 Pa\n",
       "4                                                    NaN  Inorganic\n",
       "...                                                  ...        ...\n",
       "55352  U.: Assessment of chemical screening outcomes ...        NaN\n",
       "55353  ent partitioning property estimation methods, ...        NaN\n",
       "55354                                     514–520, 2010.        NaN\n",
       "55355  Zhang, Z. and Pawliszyn, J.: Headspace solid-p...        NaN\n",
       "55356            tion, Anal. Chem., 65, 1843–1852, 1993.        NaN\n",
       "\n",
       "[55357 rows x 2 columns]"
      ]
     },
     "execution_count": 1870,
     "metadata": {},
     "output_type": "execute_result"
    }
   ],
   "source": [
    "df"
   ]
  },
  {
   "cell_type": "code",
   "execution_count": 1871,
   "id": "d93f67ed-b528-45c2-86be-5ed34a87823f",
   "metadata": {},
   "outputs": [],
   "source": [
    "# deleting rows which don't contain Henry's law data\n",
    "df = df.drop(labels=range(52027, 55357), axis=0)   # these are the references at the end of the paper"
   ]
  },
  {
   "cell_type": "code",
   "execution_count": 1872,
   "id": "c1d6a0cb-dddc-4d6d-941f-ac563b08db06",
   "metadata": {},
   "outputs": [],
   "source": [
    "# these are the heading names which we don't need\n",
    "df = df.loc[df['Unnamed: 0'] != 'Substance']\n",
    "df = df.loc[df['Unnamed: 0'] != 'Formula']\n",
    "df = df.loc[df['Unnamed: 0'] != '(Other name(s))']\n",
    "df = df.loc[df['Unnamed: 0'] != '[CAS registry number]']"
   ]
  },
  {
   "cell_type": "code",
   "execution_count": 1873,
   "id": "b2e8f582-ac50-4958-8499-f8226feb4e03",
   "metadata": {},
   "outputs": [],
   "source": [
    "# renaming column names\n",
    "df.rename(columns={'Unnamed: 0': 'Substance', 'cp': 'Hcp'}, inplace=True)"
   ]
  },
  {
   "cell_type": "code",
   "execution_count": 1874,
   "id": "153683fc-60e0-4fe7-99b9-714de6452733",
   "metadata": {},
   "outputs": [
    {
     "data": {
      "text/html": [
       "<div>\n",
       "<style scoped>\n",
       "    .dataframe tbody tr th:only-of-type {\n",
       "        vertical-align: middle;\n",
       "    }\n",
       "\n",
       "    .dataframe tbody tr th {\n",
       "        vertical-align: top;\n",
       "    }\n",
       "\n",
       "    .dataframe thead th {\n",
       "        text-align: right;\n",
       "    }\n",
       "</style>\n",
       "<table border=\"1\" class=\"dataframe\">\n",
       "  <thead>\n",
       "    <tr style=\"text-align: right;\">\n",
       "      <th></th>\n",
       "      <th>Substance</th>\n",
       "      <th>Hcp</th>\n",
       "    </tr>\n",
       "  </thead>\n",
       "  <tbody>\n",
       "    <tr>\n",
       "      <th>4</th>\n",
       "      <td>NaN</td>\n",
       "      <td>Inorganic</td>\n",
       "    </tr>\n",
       "    <tr>\n",
       "      <th>5</th>\n",
       "      <td>NaN</td>\n",
       "      <td>NaN</td>\n",
       "    </tr>\n",
       "    <tr>\n",
       "      <th>6</th>\n",
       "      <td>oxygen</td>\n",
       "      <td>1.2×10−5</td>\n",
       "    </tr>\n",
       "    <tr>\n",
       "      <th>7</th>\n",
       "      <td>O2</td>\n",
       "      <td>1.3×10−5</td>\n",
       "    </tr>\n",
       "    <tr>\n",
       "      <th>8</th>\n",
       "      <td>[7782-44-7]</td>\n",
       "      <td>1.3×10−5</td>\n",
       "    </tr>\n",
       "    <tr>\n",
       "      <th>...</th>\n",
       "      <td>...</td>\n",
       "      <td>...</td>\n",
       "    </tr>\n",
       "    <tr>\n",
       "      <th>52022</th>\n",
       "      <td>(methyltriethyl lead)</td>\n",
       "      <td>NaN</td>\n",
       "    </tr>\n",
       "    <tr>\n",
       "      <th>52023</th>\n",
       "      <td>[1762-28-3]</td>\n",
       "      <td>NaN</td>\n",
       "    </tr>\n",
       "    <tr>\n",
       "      <th>52024</th>\n",
       "      <td>tetraethyllead</td>\n",
       "      <td>1.3 ×10 −5</td>\n",
       "    </tr>\n",
       "    <tr>\n",
       "      <th>52025</th>\n",
       "      <td>C8H20Pb</td>\n",
       "      <td>1.3 ×10−5</td>\n",
       "    </tr>\n",
       "    <tr>\n",
       "      <th>52026</th>\n",
       "      <td>[78-00-2]</td>\n",
       "      <td>NaN</td>\n",
       "    </tr>\n",
       "  </tbody>\n",
       "</table>\n",
       "<p>49313 rows × 2 columns</p>\n",
       "</div>"
      ],
      "text/plain": [
       "                   Substance         Hcp\n",
       "4                        NaN   Inorganic\n",
       "5                        NaN         NaN\n",
       "6                     oxygen    1.2×10−5\n",
       "7                         O2    1.3×10−5\n",
       "8                [7782-44-7]    1.3×10−5\n",
       "...                      ...         ...\n",
       "52022  (methyltriethyl lead)         NaN\n",
       "52023            [1762-28-3]         NaN\n",
       "52024         tetraethyllead  1.3 ×10 −5\n",
       "52025                C8H20Pb   1.3 ×10−5\n",
       "52026              [78-00-2]         NaN\n",
       "\n",
       "[49313 rows x 2 columns]"
      ]
     },
     "execution_count": 1874,
     "metadata": {},
     "output_type": "execute_result"
    }
   ],
   "source": [
    "df"
   ]
  },
  {
   "cell_type": "code",
   "execution_count": 1875,
   "id": "5ab93c51-b58d-40fe-8688-2f2458f83517",
   "metadata": {},
   "outputs": [
    {
     "data": {
      "text/plain": [
       "Substance    13320\n",
       "Hcp          23303\n",
       "dtype: int64"
      ]
     },
     "execution_count": 1875,
     "metadata": {},
     "output_type": "execute_result"
    }
   ],
   "source": [
    "df.isna().sum()"
   ]
  },
  {
   "cell_type": "markdown",
   "id": "ee2b2e84-4833-433e-865b-0e189d2197cb",
   "metadata": {},
   "source": [
    "The null values in the Substance column won't relate to any values as they are just extra constants for the above substance however looking at the csv file some of the constants are in the same cell as the substance name so those will need to be separated."
   ]
  },
  {
   "cell_type": "code",
   "execution_count": 1876,
   "id": "739f2bbf-6366-41f9-b42d-6b9d9a9a67d6",
   "metadata": {},
   "outputs": [],
   "source": [
    "# can delete null values in the substance column\n",
    "df.dropna(subset=['Substance'], inplace=True)"
   ]
  },
  {
   "cell_type": "code",
   "execution_count": 1877,
   "id": "1a08ce8d-4e5b-4f21-93e9-3f5f812571fb",
   "metadata": {},
   "outputs": [
    {
     "data": {
      "text/plain": [
       "Substance    sulfur hexafluoride 2.4 10−6×\n",
       "Hcp                                   3100\n",
       "Name: 801, dtype: object"
      ]
     },
     "execution_count": 1877,
     "metadata": {},
     "output_type": "execute_result"
    }
   ],
   "source": [
    "# as an example here we can see that we need to split the substance name and Hcp value\n",
    "df.iloc[395]"
   ]
  },
  {
   "cell_type": "code",
   "execution_count": 1878,
   "id": "f2dd7fbf-1d0c-41be-a802-dd13b307eb31",
   "metadata": {},
   "outputs": [],
   "source": [
    "# here we are splitting at the first whitespace which is followed by a digit\n",
    "df[['Substance Name', 'sep', 'missing Hcp']] = df['Substance'].str.split('(\\s\\d)', n=1, expand=True)\n",
    "\n",
    "# the sep column contains the digit that we split at so we want to add that back to its value\n",
    "df[\"missing Hcp\"] = df[\"sep\"] + df[\"missing Hcp\"]\n",
    "df.drop(\"sep\", inplace=True, axis=1)"
   ]
  },
  {
   "cell_type": "code",
   "execution_count": 1879,
   "id": "39a6ea9e-edd5-45e3-8e3e-4a2b92f66e0b",
   "metadata": {},
   "outputs": [
    {
     "data": {
      "text/plain": [
       "Substance         sulfur hexafluoride 2.4 10−6×\n",
       "Hcp                                        3100\n",
       "Substance Name              sulfur hexafluoride\n",
       "missing Hcp                           2.4 10−6×\n",
       "Name: 801, dtype: object"
      ]
     },
     "execution_count": 1879,
     "metadata": {},
     "output_type": "execute_result"
    }
   ],
   "source": [
    "# here we can see the value has successfully been split up\n",
    "df.iloc[395]"
   ]
  },
  {
   "cell_type": "code",
   "execution_count": 1880,
   "id": "c5eaace1-2447-4ab3-b385-0dae489da787",
   "metadata": {},
   "outputs": [
    {
     "data": {
      "text/html": [
       "<div>\n",
       "<style scoped>\n",
       "    .dataframe tbody tr th:only-of-type {\n",
       "        vertical-align: middle;\n",
       "    }\n",
       "\n",
       "    .dataframe tbody tr th {\n",
       "        vertical-align: top;\n",
       "    }\n",
       "\n",
       "    .dataframe thead th {\n",
       "        text-align: right;\n",
       "    }\n",
       "</style>\n",
       "<table border=\"1\" class=\"dataframe\">\n",
       "  <thead>\n",
       "    <tr style=\"text-align: right;\">\n",
       "      <th></th>\n",
       "      <th>Substance</th>\n",
       "      <th>Hcp</th>\n",
       "      <th>Substance Name</th>\n",
       "      <th>missing Hcp</th>\n",
       "    </tr>\n",
       "  </thead>\n",
       "  <tbody>\n",
       "    <tr>\n",
       "      <th>6</th>\n",
       "      <td>oxygen</td>\n",
       "      <td>1.2×10−5</td>\n",
       "      <td>oxygen</td>\n",
       "      <td>NaN</td>\n",
       "    </tr>\n",
       "    <tr>\n",
       "      <th>7</th>\n",
       "      <td>O2</td>\n",
       "      <td>1.3×10−5</td>\n",
       "      <td>O2</td>\n",
       "      <td>NaN</td>\n",
       "    </tr>\n",
       "    <tr>\n",
       "      <th>8</th>\n",
       "      <td>[7782-44-7]</td>\n",
       "      <td>1.3×10−5</td>\n",
       "      <td>[7782-44-7]</td>\n",
       "      <td>NaN</td>\n",
       "    </tr>\n",
       "    <tr>\n",
       "      <th>20</th>\n",
       "      <td>ozone</td>\n",
       "      <td>1.0×10−4</td>\n",
       "      <td>ozone</td>\n",
       "      <td>NaN</td>\n",
       "    </tr>\n",
       "    <tr>\n",
       "      <th>21</th>\n",
       "      <td>O 3</td>\n",
       "      <td>1.0 ×10 −4</td>\n",
       "      <td>O</td>\n",
       "      <td>3</td>\n",
       "    </tr>\n",
       "    <tr>\n",
       "      <th>...</th>\n",
       "      <td>...</td>\n",
       "      <td>...</td>\n",
       "      <td>...</td>\n",
       "      <td>...</td>\n",
       "    </tr>\n",
       "    <tr>\n",
       "      <th>52022</th>\n",
       "      <td>(methyltriethyl lead)</td>\n",
       "      <td>NaN</td>\n",
       "      <td>(methyltriethyl lead)</td>\n",
       "      <td>NaN</td>\n",
       "    </tr>\n",
       "    <tr>\n",
       "      <th>52023</th>\n",
       "      <td>[1762-28-3]</td>\n",
       "      <td>NaN</td>\n",
       "      <td>[1762-28-3]</td>\n",
       "      <td>NaN</td>\n",
       "    </tr>\n",
       "    <tr>\n",
       "      <th>52024</th>\n",
       "      <td>tetraethyllead</td>\n",
       "      <td>1.3 ×10 −5</td>\n",
       "      <td>tetraethyllead</td>\n",
       "      <td>NaN</td>\n",
       "    </tr>\n",
       "    <tr>\n",
       "      <th>52025</th>\n",
       "      <td>C8H20Pb</td>\n",
       "      <td>1.3 ×10−5</td>\n",
       "      <td>C8H20Pb</td>\n",
       "      <td>NaN</td>\n",
       "    </tr>\n",
       "    <tr>\n",
       "      <th>52026</th>\n",
       "      <td>[78-00-2]</td>\n",
       "      <td>NaN</td>\n",
       "      <td>[78-00-2]</td>\n",
       "      <td>NaN</td>\n",
       "    </tr>\n",
       "  </tbody>\n",
       "</table>\n",
       "<p>35993 rows × 4 columns</p>\n",
       "</div>"
      ],
      "text/plain": [
       "                   Substance         Hcp         Substance Name missing Hcp\n",
       "6                     oxygen    1.2×10−5                 oxygen         NaN\n",
       "7                         O2    1.3×10−5                     O2         NaN\n",
       "8                [7782-44-7]    1.3×10−5            [7782-44-7]         NaN\n",
       "20                     ozone    1.0×10−4                  ozone         NaN\n",
       "21                       O 3  1.0 ×10 −4                      O           3\n",
       "...                      ...         ...                    ...         ...\n",
       "52022  (methyltriethyl lead)         NaN  (methyltriethyl lead)         NaN\n",
       "52023            [1762-28-3]         NaN            [1762-28-3]         NaN\n",
       "52024         tetraethyllead  1.3 ×10 −5         tetraethyllead         NaN\n",
       "52025                C8H20Pb   1.3 ×10−5                C8H20Pb         NaN\n",
       "52026              [78-00-2]         NaN              [78-00-2]         NaN\n",
       "\n",
       "[35993 rows x 4 columns]"
      ]
     },
     "execution_count": 1880,
     "metadata": {},
     "output_type": "execute_result"
    }
   ],
   "source": [
    "df"
   ]
  },
  {
   "cell_type": "code",
   "execution_count": 1881,
   "id": "d93d5cbf-4e75-4619-9deb-29bc1d4ddb5a",
   "metadata": {},
   "outputs": [],
   "source": [
    "# replace Substance values with corrected Substance Name values\n",
    "df['Substance'] = df['Substance Name']"
   ]
  },
  {
   "cell_type": "code",
   "execution_count": 1882,
   "id": "dba67ab6-d16e-48a2-882e-b82aff89c244",
   "metadata": {},
   "outputs": [
    {
     "data": {
      "text/plain": [
       "Substance         sulfur hexafluoride\n",
       "Hcp                              3100\n",
       "Substance Name    sulfur hexafluoride\n",
       "missing Hcp                 2.4 10−6×\n",
       "Name: 801, dtype: object"
      ]
     },
     "execution_count": 1882,
     "metadata": {},
     "output_type": "execute_result"
    }
   ],
   "source": [
    "# example below\n",
    "df.iloc[395]"
   ]
  },
  {
   "cell_type": "code",
   "execution_count": 1883,
   "id": "45fe608a-5b65-4174-9853-0ea0dd6feec0",
   "metadata": {},
   "outputs": [],
   "source": [
    "# will fill up the missing Hcp column with existing Hcp values - now the missing Hcp values contains all the correct Hcp values\n",
    "df[\"missing Hcp\"].fillna(df[\"Hcp\"], inplace=True)"
   ]
  },
  {
   "cell_type": "code",
   "execution_count": 1884,
   "id": "38d14ad7-be18-4881-9641-22b9283f2165",
   "metadata": {},
   "outputs": [
    {
     "data": {
      "text/plain": [
       "Substance         sulfur hexafluoride\n",
       "Hcp                              3100\n",
       "Substance Name    sulfur hexafluoride\n",
       "missing Hcp                 2.4 10−6×\n",
       "Name: 801, dtype: object"
      ]
     },
     "execution_count": 1884,
     "metadata": {},
     "output_type": "execute_result"
    }
   ],
   "source": [
    "df.iloc[395]"
   ]
  },
  {
   "cell_type": "code",
   "execution_count": 1885,
   "id": "79cd38b5-afcb-4d89-9df3-cbb830d331f8",
   "metadata": {},
   "outputs": [
    {
     "data": {
      "text/html": [
       "<div>\n",
       "<style scoped>\n",
       "    .dataframe tbody tr th:only-of-type {\n",
       "        vertical-align: middle;\n",
       "    }\n",
       "\n",
       "    .dataframe tbody tr th {\n",
       "        vertical-align: top;\n",
       "    }\n",
       "\n",
       "    .dataframe thead th {\n",
       "        text-align: right;\n",
       "    }\n",
       "</style>\n",
       "<table border=\"1\" class=\"dataframe\">\n",
       "  <thead>\n",
       "    <tr style=\"text-align: right;\">\n",
       "      <th></th>\n",
       "      <th>Substance</th>\n",
       "      <th>Hcp</th>\n",
       "      <th>Substance Name</th>\n",
       "      <th>missing Hcp</th>\n",
       "    </tr>\n",
       "  </thead>\n",
       "  <tbody>\n",
       "    <tr>\n",
       "      <th>6</th>\n",
       "      <td>oxygen</td>\n",
       "      <td>1.2×10−5</td>\n",
       "      <td>oxygen</td>\n",
       "      <td>1.2×10−5</td>\n",
       "    </tr>\n",
       "    <tr>\n",
       "      <th>7</th>\n",
       "      <td>O2</td>\n",
       "      <td>1.3×10−5</td>\n",
       "      <td>O2</td>\n",
       "      <td>1.3×10−5</td>\n",
       "    </tr>\n",
       "    <tr>\n",
       "      <th>8</th>\n",
       "      <td>[7782-44-7]</td>\n",
       "      <td>1.3×10−5</td>\n",
       "      <td>[7782-44-7]</td>\n",
       "      <td>1.3×10−5</td>\n",
       "    </tr>\n",
       "    <tr>\n",
       "      <th>20</th>\n",
       "      <td>ozone</td>\n",
       "      <td>1.0×10−4</td>\n",
       "      <td>ozone</td>\n",
       "      <td>1.0×10−4</td>\n",
       "    </tr>\n",
       "    <tr>\n",
       "      <th>21</th>\n",
       "      <td>O</td>\n",
       "      <td>1.0 ×10 −4</td>\n",
       "      <td>O</td>\n",
       "      <td>3</td>\n",
       "    </tr>\n",
       "    <tr>\n",
       "      <th>...</th>\n",
       "      <td>...</td>\n",
       "      <td>...</td>\n",
       "      <td>...</td>\n",
       "      <td>...</td>\n",
       "    </tr>\n",
       "    <tr>\n",
       "      <th>52022</th>\n",
       "      <td>(methyltriethyl lead)</td>\n",
       "      <td>NaN</td>\n",
       "      <td>(methyltriethyl lead)</td>\n",
       "      <td>NaN</td>\n",
       "    </tr>\n",
       "    <tr>\n",
       "      <th>52023</th>\n",
       "      <td>[1762-28-3]</td>\n",
       "      <td>NaN</td>\n",
       "      <td>[1762-28-3]</td>\n",
       "      <td>NaN</td>\n",
       "    </tr>\n",
       "    <tr>\n",
       "      <th>52024</th>\n",
       "      <td>tetraethyllead</td>\n",
       "      <td>1.3 ×10 −5</td>\n",
       "      <td>tetraethyllead</td>\n",
       "      <td>1.3 ×10 −5</td>\n",
       "    </tr>\n",
       "    <tr>\n",
       "      <th>52025</th>\n",
       "      <td>C8H20Pb</td>\n",
       "      <td>1.3 ×10−5</td>\n",
       "      <td>C8H20Pb</td>\n",
       "      <td>1.3 ×10−5</td>\n",
       "    </tr>\n",
       "    <tr>\n",
       "      <th>52026</th>\n",
       "      <td>[78-00-2]</td>\n",
       "      <td>NaN</td>\n",
       "      <td>[78-00-2]</td>\n",
       "      <td>NaN</td>\n",
       "    </tr>\n",
       "  </tbody>\n",
       "</table>\n",
       "<p>35993 rows × 4 columns</p>\n",
       "</div>"
      ],
      "text/plain": [
       "                   Substance         Hcp         Substance Name missing Hcp\n",
       "6                     oxygen    1.2×10−5                 oxygen    1.2×10−5\n",
       "7                         O2    1.3×10−5                     O2    1.3×10−5\n",
       "8                [7782-44-7]    1.3×10−5            [7782-44-7]    1.3×10−5\n",
       "20                     ozone    1.0×10−4                  ozone    1.0×10−4\n",
       "21                         O  1.0 ×10 −4                      O           3\n",
       "...                      ...         ...                    ...         ...\n",
       "52022  (methyltriethyl lead)         NaN  (methyltriethyl lead)         NaN\n",
       "52023            [1762-28-3]         NaN            [1762-28-3]         NaN\n",
       "52024         tetraethyllead  1.3 ×10 −5         tetraethyllead  1.3 ×10 −5\n",
       "52025                C8H20Pb   1.3 ×10−5                C8H20Pb   1.3 ×10−5\n",
       "52026              [78-00-2]         NaN              [78-00-2]         NaN\n",
       "\n",
       "[35993 rows x 4 columns]"
      ]
     },
     "execution_count": 1885,
     "metadata": {},
     "output_type": "execute_result"
    }
   ],
   "source": [
    "df"
   ]
  },
  {
   "cell_type": "code",
   "execution_count": 1886,
   "id": "225388f3-fcef-49c5-a3bc-1e23a980e049",
   "metadata": {},
   "outputs": [],
   "source": [
    "# now we can get rid of the Hcp and Substance Name columns\n",
    "df = df.drop(df.columns[[1, 2]], axis=1)\n",
    "\n",
    "# and also rename missing Hcp to Hcp\n",
    "df.rename(columns={'missing Hcp': 'Hcp'}, inplace=True)"
   ]
  },
  {
   "cell_type": "code",
   "execution_count": 1887,
   "id": "016facff-1863-4de3-9308-407eedb0f822",
   "metadata": {},
   "outputs": [
    {
     "data": {
      "text/plain": [
       "Substance    naphthacene\n",
       "Hcp             3.6 102×\n",
       "Name: 7260, dtype: object"
      ]
     },
     "execution_count": 1887,
     "metadata": {},
     "output_type": "execute_result"
    }
   ],
   "source": [
    "df.iloc[3946]"
   ]
  },
  {
   "cell_type": "code",
   "execution_count": 1888,
   "id": "1f6fd44f-7fc0-4e48-82bd-d37260087380",
   "metadata": {},
   "outputs": [],
   "source": [
    "# now we can remove any null values in Hcp column\n",
    "df.dropna(subset=['Hcp'], inplace=True)"
   ]
  },
  {
   "cell_type": "code",
   "execution_count": 1889,
   "id": "acc8057d-67ea-43ba-8369-d991cb159324",
   "metadata": {},
   "outputs": [],
   "source": [
    "# we now need to get rid of rows which have Substance value representing chemical formula and CAS IDs as these represent duplicates\n",
    "# we know that the IUPAC names all start with a lowercase letter or a digit so we can filter by that (as opposed to an uppercase letter or square bracket as the above would)\n",
    "df = df[df.Substance.str.contains('^[0-9a-z]')]"
   ]
  },
  {
   "cell_type": "code",
   "execution_count": 1890,
   "id": "37704f94-e041-4e8a-b488-78e8b2dedf3b",
   "metadata": {},
   "outputs": [
    {
     "data": {
      "text/html": [
       "<div>\n",
       "<style scoped>\n",
       "    .dataframe tbody tr th:only-of-type {\n",
       "        vertical-align: middle;\n",
       "    }\n",
       "\n",
       "    .dataframe tbody tr th {\n",
       "        vertical-align: top;\n",
       "    }\n",
       "\n",
       "    .dataframe thead th {\n",
       "        text-align: right;\n",
       "    }\n",
       "</style>\n",
       "<table border=\"1\" class=\"dataframe\">\n",
       "  <thead>\n",
       "    <tr style=\"text-align: right;\">\n",
       "      <th></th>\n",
       "      <th>Substance</th>\n",
       "      <th>Hcp</th>\n",
       "    </tr>\n",
       "  </thead>\n",
       "  <tbody>\n",
       "    <tr>\n",
       "      <th>6</th>\n",
       "      <td>oxygen</td>\n",
       "      <td>1.2×10−5</td>\n",
       "    </tr>\n",
       "    <tr>\n",
       "      <th>20</th>\n",
       "      <td>ozone</td>\n",
       "      <td>1.0×10−4</td>\n",
       "    </tr>\n",
       "    <tr>\n",
       "      <th>34</th>\n",
       "      <td>hydrogen atom</td>\n",
       "      <td>2.6×10−6</td>\n",
       "    </tr>\n",
       "    <tr>\n",
       "      <th>37</th>\n",
       "      <td>hydrogen</td>\n",
       "      <td>7.8×10−6</td>\n",
       "    </tr>\n",
       "    <tr>\n",
       "      <th>44</th>\n",
       "      <td>deuterium</td>\n",
       "      <td>7.9 10−6×</td>\n",
       "    </tr>\n",
       "    <tr>\n",
       "      <th>...</th>\n",
       "      <td>...</td>\n",
       "      <td>...</td>\n",
       "    </tr>\n",
       "    <tr>\n",
       "      <th>52010</th>\n",
       "      <td>tetramethyl lead</td>\n",
       "      <td>1.6×10−5</td>\n",
       "    </tr>\n",
       "    <tr>\n",
       "      <th>52013</th>\n",
       "      <td>ethyltrimethylplumbane</td>\n",
       "      <td>2.8×10−5</td>\n",
       "    </tr>\n",
       "    <tr>\n",
       "      <th>52016</th>\n",
       "      <td>diethyldimethylplumbane</td>\n",
       "      <td>2.1 10−5×</td>\n",
       "    </tr>\n",
       "    <tr>\n",
       "      <th>52020</th>\n",
       "      <td>triethylmethylplumbane</td>\n",
       "      <td>1.6 10−5×</td>\n",
       "    </tr>\n",
       "    <tr>\n",
       "      <th>52024</th>\n",
       "      <td>tetraethyllead</td>\n",
       "      <td>1.3 ×10 −5</td>\n",
       "    </tr>\n",
       "  </tbody>\n",
       "</table>\n",
       "<p>9537 rows × 2 columns</p>\n",
       "</div>"
      ],
      "text/plain": [
       "                     Substance         Hcp\n",
       "6                       oxygen    1.2×10−5\n",
       "20                       ozone    1.0×10−4\n",
       "34               hydrogen atom    2.6×10−6\n",
       "37                    hydrogen    7.8×10−6\n",
       "44                   deuterium   7.9 10−6×\n",
       "...                        ...         ...\n",
       "52010         tetramethyl lead    1.6×10−5\n",
       "52013   ethyltrimethylplumbane    2.8×10−5\n",
       "52016  diethyldimethylplumbane   2.1 10−5×\n",
       "52020   triethylmethylplumbane   1.6 10−5×\n",
       "52024           tetraethyllead  1.3 ×10 −5\n",
       "\n",
       "[9537 rows x 2 columns]"
      ]
     },
     "execution_count": 1890,
     "metadata": {},
     "output_type": "execute_result"
    }
   ],
   "source": [
    "df"
   ]
  },
  {
   "cell_type": "code",
   "execution_count": 1891,
   "id": "3211e775-c404-4c94-b5fd-072ea9c56c55",
   "metadata": {},
   "outputs": [
    {
     "data": {
      "text/plain": [
       "Substance    1.4×10−5\n",
       "Hcp              1500\n",
       "Name: 840, dtype: object"
      ]
     },
     "execution_count": 1891,
     "metadata": {},
     "output_type": "execute_result"
    }
   ],
   "source": [
    "# some rows like this have gone through which must be cleaned up\n",
    "df.iloc[154]"
   ]
  },
  {
   "cell_type": "code",
   "execution_count": 1892,
   "id": "42bf9861-8758-47c6-a60c-33ef7c636add",
   "metadata": {},
   "outputs": [],
   "source": [
    "# we can filter out any Hcp values which are not in standard form as any of those values are incorrect\n",
    "df = df[df.Hcp.str.contains('^\\d*\\.')]"
   ]
  },
  {
   "cell_type": "code",
   "execution_count": 1893,
   "id": "fdda20ee-7480-4fc8-8f76-eb41646ad4c3",
   "metadata": {},
   "outputs": [
    {
     "data": {
      "text/html": [
       "<div>\n",
       "<style scoped>\n",
       "    .dataframe tbody tr th:only-of-type {\n",
       "        vertical-align: middle;\n",
       "    }\n",
       "\n",
       "    .dataframe tbody tr th {\n",
       "        vertical-align: top;\n",
       "    }\n",
       "\n",
       "    .dataframe thead th {\n",
       "        text-align: right;\n",
       "    }\n",
       "</style>\n",
       "<table border=\"1\" class=\"dataframe\">\n",
       "  <thead>\n",
       "    <tr style=\"text-align: right;\">\n",
       "      <th></th>\n",
       "      <th>Substance</th>\n",
       "      <th>Hcp</th>\n",
       "    </tr>\n",
       "  </thead>\n",
       "  <tbody>\n",
       "    <tr>\n",
       "      <th>6</th>\n",
       "      <td>oxygen</td>\n",
       "      <td>1.2×10−5</td>\n",
       "    </tr>\n",
       "    <tr>\n",
       "      <th>20</th>\n",
       "      <td>ozone</td>\n",
       "      <td>1.0×10−4</td>\n",
       "    </tr>\n",
       "    <tr>\n",
       "      <th>34</th>\n",
       "      <td>hydrogen atom</td>\n",
       "      <td>2.6×10−6</td>\n",
       "    </tr>\n",
       "    <tr>\n",
       "      <th>37</th>\n",
       "      <td>hydrogen</td>\n",
       "      <td>7.8×10−6</td>\n",
       "    </tr>\n",
       "    <tr>\n",
       "      <th>44</th>\n",
       "      <td>deuterium</td>\n",
       "      <td>7.9 10−6×</td>\n",
       "    </tr>\n",
       "    <tr>\n",
       "      <th>...</th>\n",
       "      <td>...</td>\n",
       "      <td>...</td>\n",
       "    </tr>\n",
       "    <tr>\n",
       "      <th>52010</th>\n",
       "      <td>tetramethyl lead</td>\n",
       "      <td>1.6×10−5</td>\n",
       "    </tr>\n",
       "    <tr>\n",
       "      <th>52013</th>\n",
       "      <td>ethyltrimethylplumbane</td>\n",
       "      <td>2.8×10−5</td>\n",
       "    </tr>\n",
       "    <tr>\n",
       "      <th>52016</th>\n",
       "      <td>diethyldimethylplumbane</td>\n",
       "      <td>2.1 10−5×</td>\n",
       "    </tr>\n",
       "    <tr>\n",
       "      <th>52020</th>\n",
       "      <td>triethylmethylplumbane</td>\n",
       "      <td>1.6 10−5×</td>\n",
       "    </tr>\n",
       "    <tr>\n",
       "      <th>52024</th>\n",
       "      <td>tetraethyllead</td>\n",
       "      <td>1.3 ×10 −5</td>\n",
       "    </tr>\n",
       "  </tbody>\n",
       "</table>\n",
       "<p>6333 rows × 2 columns</p>\n",
       "</div>"
      ],
      "text/plain": [
       "                     Substance         Hcp\n",
       "6                       oxygen    1.2×10−5\n",
       "20                       ozone    1.0×10−4\n",
       "34               hydrogen atom    2.6×10−6\n",
       "37                    hydrogen    7.8×10−6\n",
       "44                   deuterium   7.9 10−6×\n",
       "...                        ...         ...\n",
       "52010         tetramethyl lead    1.6×10−5\n",
       "52013   ethyltrimethylplumbane    2.8×10−5\n",
       "52016  diethyldimethylplumbane   2.1 10−5×\n",
       "52020   triethylmethylplumbane   1.6 10−5×\n",
       "52024           tetraethyllead  1.3 ×10 −5\n",
       "\n",
       "[6333 rows x 2 columns]"
      ]
     },
     "execution_count": 1893,
     "metadata": {},
     "output_type": "execute_result"
    }
   ],
   "source": [
    "df"
   ]
  },
  {
   "cell_type": "code",
   "execution_count": 1894,
   "id": "02e9e6bc-f354-42cf-b908-6de4d028ca83",
   "metadata": {},
   "outputs": [],
   "source": [
    "# removing duplicates\n",
    "df = df.drop_duplicates(subset=['Substance'])"
   ]
  },
  {
   "cell_type": "markdown",
   "id": "7c433c3b-56c1-4c33-8891-bcd2ea637233",
   "metadata": {},
   "source": [
    "We are 1472 species short :("
   ]
  },
  {
   "cell_type": "code",
   "execution_count": 1895,
   "id": "7ce7cc6b-7090-4971-87d4-cb2ae90e0d08",
   "metadata": {},
   "outputs": [
    {
     "data": {
      "text/html": [
       "<div>\n",
       "<style scoped>\n",
       "    .dataframe tbody tr th:only-of-type {\n",
       "        vertical-align: middle;\n",
       "    }\n",
       "\n",
       "    .dataframe tbody tr th {\n",
       "        vertical-align: top;\n",
       "    }\n",
       "\n",
       "    .dataframe thead th {\n",
       "        text-align: right;\n",
       "    }\n",
       "</style>\n",
       "<table border=\"1\" class=\"dataframe\">\n",
       "  <thead>\n",
       "    <tr style=\"text-align: right;\">\n",
       "      <th></th>\n",
       "      <th>Substance</th>\n",
       "      <th>Hcp</th>\n",
       "    </tr>\n",
       "  </thead>\n",
       "  <tbody>\n",
       "    <tr>\n",
       "      <th>0</th>\n",
       "      <td>oxygen</td>\n",
       "      <td>1.2×10−5</td>\n",
       "    </tr>\n",
       "    <tr>\n",
       "      <th>1</th>\n",
       "      <td>ozone</td>\n",
       "      <td>1.0×10−4</td>\n",
       "    </tr>\n",
       "    <tr>\n",
       "      <th>2</th>\n",
       "      <td>hydrogen atom</td>\n",
       "      <td>2.6×10−6</td>\n",
       "    </tr>\n",
       "    <tr>\n",
       "      <th>3</th>\n",
       "      <td>hydrogen</td>\n",
       "      <td>7.8×10−6</td>\n",
       "    </tr>\n",
       "    <tr>\n",
       "      <th>4</th>\n",
       "      <td>deuterium</td>\n",
       "      <td>7.9 10−6×</td>\n",
       "    </tr>\n",
       "    <tr>\n",
       "      <th>...</th>\n",
       "      <td>...</td>\n",
       "      <td>...</td>\n",
       "    </tr>\n",
       "    <tr>\n",
       "      <th>3155</th>\n",
       "      <td>tetramethyl lead</td>\n",
       "      <td>1.6×10−5</td>\n",
       "    </tr>\n",
       "    <tr>\n",
       "      <th>3156</th>\n",
       "      <td>ethyltrimethylplumbane</td>\n",
       "      <td>2.8×10−5</td>\n",
       "    </tr>\n",
       "    <tr>\n",
       "      <th>3157</th>\n",
       "      <td>diethyldimethylplumbane</td>\n",
       "      <td>2.1 10−5×</td>\n",
       "    </tr>\n",
       "    <tr>\n",
       "      <th>3158</th>\n",
       "      <td>triethylmethylplumbane</td>\n",
       "      <td>1.6 10−5×</td>\n",
       "    </tr>\n",
       "    <tr>\n",
       "      <th>3159</th>\n",
       "      <td>tetraethyllead</td>\n",
       "      <td>1.3 ×10 −5</td>\n",
       "    </tr>\n",
       "  </tbody>\n",
       "</table>\n",
       "<p>3160 rows × 2 columns</p>\n",
       "</div>"
      ],
      "text/plain": [
       "                    Substance         Hcp\n",
       "0                      oxygen    1.2×10−5\n",
       "1                       ozone    1.0×10−4\n",
       "2               hydrogen atom    2.6×10−6\n",
       "3                    hydrogen    7.8×10−6\n",
       "4                   deuterium   7.9 10−6×\n",
       "...                       ...         ...\n",
       "3155         tetramethyl lead    1.6×10−5\n",
       "3156   ethyltrimethylplumbane    2.8×10−5\n",
       "3157  diethyldimethylplumbane   2.1 10−5×\n",
       "3158   triethylmethylplumbane   1.6 10−5×\n",
       "3159           tetraethyllead  1.3 ×10 −5\n",
       "\n",
       "[3160 rows x 2 columns]"
      ]
     },
     "execution_count": 1895,
     "metadata": {},
     "output_type": "execute_result"
    }
   ],
   "source": [
    "# reset index\n",
    "df.reset_index(drop=True, inplace=True)\n",
    "df"
   ]
  },
  {
   "cell_type": "code",
   "execution_count": 1896,
   "id": "f1c968f4-6aa2-44ac-a42c-8e5fe8b5d8bb",
   "metadata": {},
   "outputs": [],
   "source": [
    "# at the moment the Hcp values are a bit of a mess - we need to standardise them into a single format and then convert them into floats"
   ]
  }
 ],
 "metadata": {
  "kernelspec": {
   "display_name": "Python 3 (ipykernel)",
   "language": "python",
   "name": "python3"
  },
  "language_info": {
   "codemirror_mode": {
    "name": "ipython",
    "version": 3
   },
   "file_extension": ".py",
   "mimetype": "text/x-python",
   "name": "python",
   "nbconvert_exporter": "python",
   "pygments_lexer": "ipython3",
   "version": "3.7.11"
  }
 },
 "nbformat": 4,
 "nbformat_minor": 5
}
