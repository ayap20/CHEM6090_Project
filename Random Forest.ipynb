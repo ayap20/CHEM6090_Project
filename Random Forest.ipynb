{
 "cells": [
  {
   "cell_type": "markdown",
   "id": "3b3056aa-a592-4fa8-9eca-c3a1669dfc5e",
   "metadata": {},
   "source": [
    "# Random Forest"
   ]
  },
  {
   "cell_type": "code",
   "execution_count": 1,
   "id": "c3c37adf-a772-467d-a58d-57dd2cb9782f",
   "metadata": {},
   "outputs": [],
   "source": [
    "import pandas as pd\n",
    "import numpy as np\n",
    "import seaborn as sns\n",
    "from matplotlib import pyplot as plt\n",
    "\n",
    "from sklearn.ensemble import RandomForestRegressor\n",
    "from sklearn.model_selection import train_test_split\n",
    "from sklearn.metrics import mean_squared_error, r2_score"
   ]
  },
  {
   "cell_type": "code",
   "execution_count": 3,
   "id": "df53fa70-5517-42a4-9fcc-b2f638da6e1b",
   "metadata": {},
   "outputs": [],
   "source": [
    "# loading dataset as pandas dataframe\n",
    "df = pd.read_csv('curated_aqsoldb.csv')"
   ]
  },
  {
   "cell_type": "markdown",
   "id": "17b50ce6-02d5-429f-805e-43e6273ddda2",
   "metadata": {},
   "source": [
    "##### Using descriptors based on Delaney's method - MolLogP, MolWt, NumRotatableBonds, AromaticProportion (AP) (https://pubmed.ncbi.nlm.nih.gov/15154768/)\n",
    "\n",
    "Note: From my own EDA, I have found that MolLogP and MolWt have a much larger correlation to solubility that NumRotatableBonds and AromaticProportion"
   ]
  },
  {
   "cell_type": "code",
   "execution_count": 5,
   "id": "a00770d9-8c3f-49b6-95bf-b1f8a042dc14",
   "metadata": {},
   "outputs": [
    {
     "data": {
      "text/html": [
       "<div>\n",
       "<style scoped>\n",
       "    .dataframe tbody tr th:only-of-type {\n",
       "        vertical-align: middle;\n",
       "    }\n",
       "\n",
       "    .dataframe tbody tr th {\n",
       "        vertical-align: top;\n",
       "    }\n",
       "\n",
       "    .dataframe thead th {\n",
       "        text-align: right;\n",
       "    }\n",
       "</style>\n",
       "<table border=\"1\" class=\"dataframe\">\n",
       "  <thead>\n",
       "    <tr style=\"text-align: right;\">\n",
       "      <th></th>\n",
       "      <th>MolLogP</th>\n",
       "      <th>MolWt</th>\n",
       "      <th>NumRotatableBonds</th>\n",
       "      <th>AP</th>\n",
       "    </tr>\n",
       "  </thead>\n",
       "  <tbody>\n",
       "    <tr>\n",
       "      <th>0</th>\n",
       "      <td>3.95810</td>\n",
       "      <td>392.510</td>\n",
       "      <td>17.0</td>\n",
       "      <td>0.000000</td>\n",
       "    </tr>\n",
       "    <tr>\n",
       "      <th>1</th>\n",
       "      <td>2.40550</td>\n",
       "      <td>169.183</td>\n",
       "      <td>0.0</td>\n",
       "      <td>0.769231</td>\n",
       "    </tr>\n",
       "    <tr>\n",
       "      <th>2</th>\n",
       "      <td>2.15250</td>\n",
       "      <td>140.569</td>\n",
       "      <td>1.0</td>\n",
       "      <td>0.666667</td>\n",
       "    </tr>\n",
       "    <tr>\n",
       "      <th>3</th>\n",
       "      <td>8.11610</td>\n",
       "      <td>756.226</td>\n",
       "      <td>10.0</td>\n",
       "      <td>0.679245</td>\n",
       "    </tr>\n",
       "    <tr>\n",
       "      <th>4</th>\n",
       "      <td>2.48540</td>\n",
       "      <td>422.525</td>\n",
       "      <td>12.0</td>\n",
       "      <td>0.387097</td>\n",
       "    </tr>\n",
       "    <tr>\n",
       "      <th>...</th>\n",
       "      <td>...</td>\n",
       "      <td>...</td>\n",
       "      <td>...</td>\n",
       "      <td>...</td>\n",
       "    </tr>\n",
       "    <tr>\n",
       "      <th>9977</th>\n",
       "      <td>2.61700</td>\n",
       "      <td>264.369</td>\n",
       "      <td>8.0</td>\n",
       "      <td>0.315789</td>\n",
       "    </tr>\n",
       "    <tr>\n",
       "      <th>9978</th>\n",
       "      <td>-0.21440</td>\n",
       "      <td>444.440</td>\n",
       "      <td>2.0</td>\n",
       "      <td>0.187500</td>\n",
       "    </tr>\n",
       "    <tr>\n",
       "      <th>9979</th>\n",
       "      <td>2.82402</td>\n",
       "      <td>150.221</td>\n",
       "      <td>1.0</td>\n",
       "      <td>0.545455</td>\n",
       "    </tr>\n",
       "    <tr>\n",
       "      <th>9980</th>\n",
       "      <td>5.09308</td>\n",
       "      <td>454.611</td>\n",
       "      <td>13.0</td>\n",
       "      <td>0.363636</td>\n",
       "    </tr>\n",
       "    <tr>\n",
       "      <th>9981</th>\n",
       "      <td>3.60960</td>\n",
       "      <td>308.333</td>\n",
       "      <td>4.0</td>\n",
       "      <td>0.695652</td>\n",
       "    </tr>\n",
       "  </tbody>\n",
       "</table>\n",
       "<p>9982 rows × 4 columns</p>\n",
       "</div>"
      ],
      "text/plain": [
       "      MolLogP    MolWt  NumRotatableBonds        AP\n",
       "0     3.95810  392.510               17.0  0.000000\n",
       "1     2.40550  169.183                0.0  0.769231\n",
       "2     2.15250  140.569                1.0  0.666667\n",
       "3     8.11610  756.226               10.0  0.679245\n",
       "4     2.48540  422.525               12.0  0.387097\n",
       "...       ...      ...                ...       ...\n",
       "9977  2.61700  264.369                8.0  0.315789\n",
       "9978 -0.21440  444.440                2.0  0.187500\n",
       "9979  2.82402  150.221                1.0  0.545455\n",
       "9980  5.09308  454.611               13.0  0.363636\n",
       "9981  3.60960  308.333                4.0  0.695652\n",
       "\n",
       "[9982 rows x 4 columns]"
      ]
     },
     "execution_count": 5,
     "metadata": {},
     "output_type": "execute_result"
    }
   ],
   "source": [
    "# creating X matrix from descriptors chosen\n",
    "X = df[['MolLogP', 'MolWt', 'NumRotatableBonds', 'AP']]\n",
    "X"
   ]
  },
  {
   "cell_type": "code",
   "execution_count": 6,
   "id": "4f3d4c33-873d-474a-9c13-a485bc3fb995",
   "metadata": {},
   "outputs": [],
   "source": [
    "# creating Y matrix from Solubility values\n",
    "Y = df['Solubility']"
   ]
  },
  {
   "cell_type": "code",
   "execution_count": 7,
   "id": "4b38e620-37e5-4968-b2f2-865ebd20fb30",
   "metadata": {},
   "outputs": [],
   "source": [
    "# split dataset into training and test sets\n",
    "x_train, x_test, y_train, y_test = train_test_split(X, Y)"
   ]
  },
  {
   "cell_type": "code",
   "execution_count": 8,
   "id": "eac8f53e-61cc-4f96-aaa8-69f96c029544",
   "metadata": {},
   "outputs": [
    {
     "data": {
      "text/plain": [
       "RandomForestRegressor()"
      ]
     },
     "execution_count": 8,
     "metadata": {},
     "output_type": "execute_result"
    }
   ],
   "source": [
    "# build random forest regresson model\n",
    "rf = RandomForestRegressor()\n",
    "\n",
    "# fit model using training set\n",
    "rf.fit(x_train, y_train)"
   ]
  },
  {
   "cell_type": "code",
   "execution_count": 21,
   "id": "81d655f5-8ca8-4713-a4f7-707fafc239e5",
   "metadata": {},
   "outputs": [],
   "source": [
    "# solubility values predicted using test labels\n",
    "y_predict = rf.predict(x_test)"
   ]
  },
  {
   "cell_type": "code",
   "execution_count": 22,
   "id": "f80db6fd-40b0-4d42-b4c2-1d9c018952be",
   "metadata": {},
   "outputs": [
    {
     "data": {
      "text/plain": [
       "[Text(0.5, 1.0, 'Random forest regression for predicting solubility'),\n",
       " Text(0.5, 0, 'experimental solubility values'),\n",
       " Text(0, 0.5, 'predicted solubility values')]"
      ]
     },
     "execution_count": 22,
     "metadata": {},
     "output_type": "execute_result"
    },
    {
     "data": {
      "image/png": "[encoded data removed]",
      "text/plain": [
       "<Figure size 432x288 with 1 Axes>"
      ]
     },
     "metadata": {
      "needs_background": "light"
     },
     "output_type": "display_data"
    }
   ],
   "source": [
    "sns.regplot(x=y_test, y=y_predict, scatter_kws={\"s\": 10}).set(title='Random forest regression for predicting solubility', xlabel='experimental solubility values', ylabel='predicted solubility values')"
   ]
  },
  {
   "cell_type": "code",
   "execution_count": 23,
   "id": "cc3d03f8-8faa-4c26-bcb1-ebef8bd27920",
   "metadata": {},
   "outputs": [
    {
     "data": {
      "text/plain": [
       "0.695907198532593"
      ]
     },
     "execution_count": 23,
     "metadata": {},
     "output_type": "execute_result"
    }
   ],
   "source": [
    "rf.score(x_test, y_test)"
   ]
  },
  {
   "cell_type": "code",
   "execution_count": 25,
   "id": "d2aac771-a780-4840-b8b8-4643a653667c",
   "metadata": {},
   "outputs": [
    {
     "data": {
      "text/plain": [
       "0.955309876628866"
      ]
     },
     "execution_count": 25,
     "metadata": {},
     "output_type": "execute_result"
    }
   ],
   "source": [
    "rf.score(x_train, y_train)"
   ]
  },
  {
   "cell_type": "code",
   "execution_count": null,
   "id": "dbce8d52-3849-4d9f-b074-876574b864bc",
   "metadata": {},
   "outputs": [],
   "source": []
  }
 ],
 "metadata": {
  "kernelspec": {
   "display_name": "Python 3",
   "language": "python",
   "name": "python3"
  },
  "language_info": {
   "codemirror_mode": {
    "name": "ipython",
    "version": 3
   },
   "file_extension": ".py",
   "mimetype": "text/x-python",
   "name": "python",
   "nbconvert_exporter": "python",
   "pygments_lexer": "ipython3",
   "version": "3.8.8"
  }
 },
 "nbformat": 4,
 "nbformat_minor": 5
}
