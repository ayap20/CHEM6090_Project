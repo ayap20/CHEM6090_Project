{
 "cells": [
  {
   "cell_type": "markdown",
   "id": "b7ae5ad2-ffdd-446d-9e6f-cd26264170a8",
   "metadata": {},
   "source": [
    "# Scraping Henry's Law Constants from the pdf dataset"
   ]
  },
  {
   "cell_type": "markdown",
   "id": "eee9e243-3634-4616-b7e5-59921ee7f83b",
   "metadata": {},
   "source": [
    "Henry's Law Constants data was scraped from pdf (https://acp.copernicus.org/articles/15/4399/2015/acp-15-4399-2015.pdf) using Tabula (https://tabula.technology/). The dataset must be cleaned up as Tabula made a few errors that need correcting, and also only the most reliable value constants must be selected and kept in the dataset. The end result should contain 4632 rows with 4632 unique species."
   ]
  },
  {
   "cell_type": "code",
   "execution_count": 1,
   "id": "1d557395-c395-4a40-adba-febe02bb50db",
   "metadata": {},
   "outputs": [],
   "source": [
    "import pandas as pd\n",
    "import tabula as tb\n",
    "import re"
   ]
  },
  {
   "cell_type": "code",
   "execution_count": 2,
   "id": "5f550886-eaa4-4a5a-bcc6-5e6afb349d6f",
   "metadata": {},
   "outputs": [],
   "source": [
    "file = 'henrys_law_constants.pdf'"
   ]
  },
  {
   "cell_type": "code",
   "execution_count": 3,
   "id": "6e7e6114-b49a-479b-a47c-84375533634d",
   "metadata": {},
   "outputs": [],
   "source": [
    "# here a loop is created where Tabula loops through each of the pages specified to scrap data from the table in the pdf which are then added to a list\n",
    "\n",
    "dfs = []\n",
    "\n",
    "for i in range(10, 553):\n",
    "    df = tb.read_pdf(file, pages=str(i), multiple_tables=True, area=(145.45, 60, 728.64, 543.05), columns = [60,216,270], pandas_options={'header': None}, stream=True, silent=True)[0]\n",
    "    dfs.append(df)\n",
    "\n",
    "# the list is then converted into a pandas dataframe\n",
    "henry_df = pd.concat(dfs)"
   ]
  },
  {
   "cell_type": "code",
   "execution_count": 4,
   "id": "47d2f13b-52ad-4127-8a3f-7ffacc371ec0",
   "metadata": {},
   "outputs": [
    {
     "data": {
      "text/html": [
       "<div>\n",
       "<style scoped>\n",
       "    .dataframe tbody tr th:only-of-type {\n",
       "        vertical-align: middle;\n",
       "    }\n",
       "\n",
       "    .dataframe tbody tr th {\n",
       "        vertical-align: top;\n",
       "    }\n",
       "\n",
       "    .dataframe thead th {\n",
       "        text-align: right;\n",
       "    }\n",
       "</style>\n",
       "<table border=\"1\" class=\"dataframe\">\n",
       "  <thead>\n",
       "    <tr style=\"text-align: right;\">\n",
       "      <th></th>\n",
       "      <th>0</th>\n",
       "      <th>1</th>\n",
       "      <th>2</th>\n",
       "      <th>3</th>\n",
       "    </tr>\n",
       "  </thead>\n",
       "  <tbody>\n",
       "    <tr>\n",
       "      <th>0</th>\n",
       "      <td>NaN</td>\n",
       "      <td>NaN</td>\n",
       "      <td>Inor</td>\n",
       "      <td>ganic species</td>\n",
       "    </tr>\n",
       "    <tr>\n",
       "      <th>1</th>\n",
       "      <td>NaN</td>\n",
       "      <td>NaN</td>\n",
       "      <td>O</td>\n",
       "      <td>xygen (O)</td>\n",
       "    </tr>\n",
       "    <tr>\n",
       "      <th>2</th>\n",
       "      <td>NaN</td>\n",
       "      <td>oxygen</td>\n",
       "      <td>1.2×10−5</td>\n",
       "      <td>1700 Warneck and Williams (2012) L</td>\n",
       "    </tr>\n",
       "    <tr>\n",
       "      <th>3</th>\n",
       "      <td>NaN</td>\n",
       "      <td>O2</td>\n",
       "      <td>1.3 ×10−5</td>\n",
       "      <td>1500 Sander et al. (2011) L</td>\n",
       "    </tr>\n",
       "    <tr>\n",
       "      <th>4</th>\n",
       "      <td>NaN</td>\n",
       "      <td>[7782-44-7]</td>\n",
       "      <td>1.3×10−5</td>\n",
       "      <td>1500 Sander et al. (2006) L</td>\n",
       "    </tr>\n",
       "    <tr>\n",
       "      <th>...</th>\n",
       "      <td>...</td>\n",
       "      <td>...</td>\n",
       "      <td>...</td>\n",
       "      <td>...</td>\n",
       "    </tr>\n",
       "    <tr>\n",
       "      <th>16</th>\n",
       "      <td>NaN</td>\n",
       "      <td>(methyltriethyl lead)</td>\n",
       "      <td>NaN</td>\n",
       "      <td>NaN</td>\n",
       "    </tr>\n",
       "    <tr>\n",
       "      <th>17</th>\n",
       "      <td>NaN</td>\n",
       "      <td>[1762-28-3]</td>\n",
       "      <td>NaN</td>\n",
       "      <td>NaN</td>\n",
       "    </tr>\n",
       "    <tr>\n",
       "      <th>18</th>\n",
       "      <td>NaN</td>\n",
       "      <td>tetraethyllead</td>\n",
       "      <td>1.3×10−5</td>\n",
       "      <td>6400 Feldhake and Stevens (1963) M</td>\n",
       "    </tr>\n",
       "    <tr>\n",
       "      <th>19</th>\n",
       "      <td>NaN</td>\n",
       "      <td>C8H20Pb</td>\n",
       "      <td>1.3×10−5</td>\n",
       "      <td>Abraham (1979) ?</td>\n",
       "    </tr>\n",
       "    <tr>\n",
       "      <th>20</th>\n",
       "      <td>NaN</td>\n",
       "      <td>[78-00-2]</td>\n",
       "      <td>NaN</td>\n",
       "      <td>NaN</td>\n",
       "    </tr>\n",
       "  </tbody>\n",
       "</table>\n",
       "<p>23828 rows × 4 columns</p>\n",
       "</div>"
      ],
      "text/plain": [
       "     0                      1          2                                   3\n",
       "0  NaN                    NaN       Inor                       ganic species\n",
       "1  NaN                    NaN          O                           xygen (O)\n",
       "2  NaN                 oxygen   1.2×10−5  1700 Warneck and Williams (2012) L\n",
       "3  NaN                     O2  1.3 ×10−5         1500 Sander et al. (2011) L\n",
       "4  NaN            [7782-44-7]   1.3×10−5         1500 Sander et al. (2006) L\n",
       "..  ..                    ...        ...                                 ...\n",
       "16 NaN  (methyltriethyl lead)        NaN                                 NaN\n",
       "17 NaN            [1762-28-3]        NaN                                 NaN\n",
       "18 NaN         tetraethyllead   1.3×10−5  6400 Feldhake and Stevens (1963) M\n",
       "19 NaN                C8H20Pb   1.3×10−5                    Abraham (1979) ?\n",
       "20 NaN              [78-00-2]        NaN                                 NaN\n",
       "\n",
       "[23828 rows x 4 columns]"
      ]
     },
     "execution_count": 4,
     "metadata": {},
     "output_type": "execute_result"
    }
   ],
   "source": [
    "henry_df"
   ]
  },
  {
   "cell_type": "code",
   "execution_count": 12,
   "id": "b71ea637-bdb4-4a2c-918c-29c16235e6c2",
   "metadata": {},
   "outputs": [],
   "source": [
    "henry_df.to_csv('henrys_law_dataset.csv', index=False)"
   ]
  },
  {
   "cell_type": "code",
   "execution_count": null,
   "id": "fd773e77-df48-4b82-a634-028b3b407617",
   "metadata": {},
   "outputs": [],
   "source": []
  }
 ],
 "metadata": {
  "kernelspec": {
   "display_name": "Python 3 (ipykernel)",
   "language": "python",
   "name": "python3"
  },
  "language_info": {
   "codemirror_mode": {
    "name": "ipython",
    "version": 3
   },
   "file_extension": ".py",
   "mimetype": "text/x-python",
   "name": "python",
   "nbconvert_exporter": "python",
   "pygments_lexer": "ipython3",
   "version": "3.7.11"
  }
 },
 "nbformat": 4,
 "nbformat_minor": 5
}
