{
 "cells": [
  {
   "cell_type": "markdown",
   "id": "16467244-b71d-4e1a-9415-1b874db4172d",
   "metadata": {},
   "source": [
    "# Multiple Linear Regression"
   ]
  },
  {
   "cell_type": "code",
   "execution_count": 28,
   "id": "8048b548-fb96-4646-a8df-63ace045d614",
   "metadata": {},
   "outputs": [],
   "source": [
    "import pandas as pd\n",
    "import numpy as np\n",
    "import seaborn as sns\n",
    "from matplotlib import pyplot as plt\n",
    "\n",
    "from sklearn import linear_model\n",
    "from sklearn.model_selection import train_test_split\n",
    "from sklearn.metrics import mean_squared_error, r2_score"
   ]
  },
  {
   "cell_type": "code",
   "execution_count": 3,
   "id": "bf8a67f6-cd44-4a85-8874-b0be28187503",
   "metadata": {},
   "outputs": [],
   "source": [
    "# loading dataset as pandas dataframe\n",
    "df = pd.read_csv('curated_aqsoldb.csv')"
   ]
  },
  {
   "cell_type": "code",
   "execution_count": 6,
   "id": "21985b77-d25b-4031-a655-c32d54494a15",
   "metadata": {},
   "outputs": [
    {
     "data": {
      "text/html": [
       "<div>\n",
       "<style scoped>\n",
       "    .dataframe tbody tr th:only-of-type {\n",
       "        vertical-align: middle;\n",
       "    }\n",
       "\n",
       "    .dataframe tbody tr th {\n",
       "        vertical-align: top;\n",
       "    }\n",
       "\n",
       "    .dataframe thead th {\n",
       "        text-align: right;\n",
       "    }\n",
       "</style>\n",
       "<table border=\"1\" class=\"dataframe\">\n",
       "  <thead>\n",
       "    <tr style=\"text-align: right;\">\n",
       "      <th></th>\n",
       "      <th>MolLogP</th>\n",
       "      <th>MolWt</th>\n",
       "      <th>NumRotatableBonds</th>\n",
       "      <th>AP</th>\n",
       "    </tr>\n",
       "  </thead>\n",
       "  <tbody>\n",
       "    <tr>\n",
       "      <th>0</th>\n",
       "      <td>3.95810</td>\n",
       "      <td>392.510</td>\n",
       "      <td>17.0</td>\n",
       "      <td>0.000000</td>\n",
       "    </tr>\n",
       "    <tr>\n",
       "      <th>1</th>\n",
       "      <td>2.40550</td>\n",
       "      <td>169.183</td>\n",
       "      <td>0.0</td>\n",
       "      <td>0.769231</td>\n",
       "    </tr>\n",
       "    <tr>\n",
       "      <th>2</th>\n",
       "      <td>2.15250</td>\n",
       "      <td>140.569</td>\n",
       "      <td>1.0</td>\n",
       "      <td>0.666667</td>\n",
       "    </tr>\n",
       "    <tr>\n",
       "      <th>3</th>\n",
       "      <td>8.11610</td>\n",
       "      <td>756.226</td>\n",
       "      <td>10.0</td>\n",
       "      <td>0.679245</td>\n",
       "    </tr>\n",
       "    <tr>\n",
       "      <th>4</th>\n",
       "      <td>2.48540</td>\n",
       "      <td>422.525</td>\n",
       "      <td>12.0</td>\n",
       "      <td>0.387097</td>\n",
       "    </tr>\n",
       "    <tr>\n",
       "      <th>...</th>\n",
       "      <td>...</td>\n",
       "      <td>...</td>\n",
       "      <td>...</td>\n",
       "      <td>...</td>\n",
       "    </tr>\n",
       "    <tr>\n",
       "      <th>9977</th>\n",
       "      <td>2.61700</td>\n",
       "      <td>264.369</td>\n",
       "      <td>8.0</td>\n",
       "      <td>0.315789</td>\n",
       "    </tr>\n",
       "    <tr>\n",
       "      <th>9978</th>\n",
       "      <td>-0.21440</td>\n",
       "      <td>444.440</td>\n",
       "      <td>2.0</td>\n",
       "      <td>0.187500</td>\n",
       "    </tr>\n",
       "    <tr>\n",
       "      <th>9979</th>\n",
       "      <td>2.82402</td>\n",
       "      <td>150.221</td>\n",
       "      <td>1.0</td>\n",
       "      <td>0.545455</td>\n",
       "    </tr>\n",
       "    <tr>\n",
       "      <th>9980</th>\n",
       "      <td>5.09308</td>\n",
       "      <td>454.611</td>\n",
       "      <td>13.0</td>\n",
       "      <td>0.363636</td>\n",
       "    </tr>\n",
       "    <tr>\n",
       "      <th>9981</th>\n",
       "      <td>3.60960</td>\n",
       "      <td>308.333</td>\n",
       "      <td>4.0</td>\n",
       "      <td>0.695652</td>\n",
       "    </tr>\n",
       "  </tbody>\n",
       "</table>\n",
       "<p>9982 rows × 4 columns</p>\n",
       "</div>"
      ],
      "text/plain": [
       "      MolLogP    MolWt  NumRotatableBonds        AP\n",
       "0     3.95810  392.510               17.0  0.000000\n",
       "1     2.40550  169.183                0.0  0.769231\n",
       "2     2.15250  140.569                1.0  0.666667\n",
       "3     8.11610  756.226               10.0  0.679245\n",
       "4     2.48540  422.525               12.0  0.387097\n",
       "...       ...      ...                ...       ...\n",
       "9977  2.61700  264.369                8.0  0.315789\n",
       "9978 -0.21440  444.440                2.0  0.187500\n",
       "9979  2.82402  150.221                1.0  0.545455\n",
       "9980  5.09308  454.611               13.0  0.363636\n",
       "9981  3.60960  308.333                4.0  0.695652\n",
       "\n",
       "[9982 rows x 4 columns]"
      ]
     },
     "execution_count": 6,
     "metadata": {},
     "output_type": "execute_result"
    }
   ],
   "source": [
    "# creating X matrix from descriptors chosen - MolLogP, MolWt, NumRotatableBonds, AP(AromaticProportion) (https://pubmed.ncbi.nlm.nih.gov/15154768/)\n",
    "X = df[['MolLogP', 'MolWt', 'NumRotatableBonds', 'AP']]\n",
    "X"
   ]
  },
  {
   "cell_type": "code",
   "execution_count": 27,
   "id": "2d9723f5-5813-421e-a2da-1cd03d40e7c8",
   "metadata": {},
   "outputs": [
    {
     "data": {
      "text/plain": [
       "0      -3.616127\n",
       "1      -3.254767\n",
       "2      -2.177078\n",
       "3      -3.924409\n",
       "4      -4.662065\n",
       "          ...   \n",
       "9977   -3.010000\n",
       "9978   -2.930000\n",
       "9979   -2.190000\n",
       "9980   -3.980000\n",
       "9981   -4.780000\n",
       "Name: Solubility, Length: 9982, dtype: float64"
      ]
     },
     "execution_count": 27,
     "metadata": {},
     "output_type": "execute_result"
    }
   ],
   "source": [
    "# creating Y matrix from Solubility values\n",
    "Y = df['Solubility']"
   ]
  },
  {
   "cell_type": "code",
   "execution_count": 7,
   "id": "02d05543-1b9c-40e9-8bbd-27805d234718",
   "metadata": {},
   "outputs": [],
   "source": [
    "# split dataset into training and test sets\n",
    "x_train, x_test, y_train, y_test = train_test_split(X, Y)"
   ]
  },
  {
   "cell_type": "code",
   "execution_count": 8,
   "id": "6f65d367-dadc-4831-9b40-5b73b8dca152",
   "metadata": {},
   "outputs": [
    {
     "data": {
      "text/plain": [
       "LinearRegression()"
      ]
     },
     "execution_count": 8,
     "metadata": {},
     "output_type": "execute_result"
    }
   ],
   "source": [
    "# build linear regresson model\n",
    "regr = linear_model.LinearRegression()\n",
    "\n",
    "# fit model using training set\n",
    "regr.fit(x_train, y_train)"
   ]
  },
  {
   "cell_type": "code",
   "execution_count": 12,
   "id": "cec7fd3d-4295-4f56-aee7-a3bb4bcdb263",
   "metadata": {},
   "outputs": [
    {
     "data": {
      "text/plain": [
       "-1.1588821900137902"
      ]
     },
     "execution_count": 12,
     "metadata": {},
     "output_type": "execute_result"
    }
   ],
   "source": [
    "# intercept value\n",
    "regr.intercept_"
   ]
  },
  {
   "cell_type": "code",
   "execution_count": 13,
   "id": "8b14ee37-de5f-4fd6-916a-a07a965bf390",
   "metadata": {},
   "outputs": [
    {
     "data": {
      "text/plain": [
       "array([-0.38395442, -0.00382194,  0.07720028, -0.80339398])"
      ]
     },
     "execution_count": 13,
     "metadata": {},
     "output_type": "execute_result"
    }
   ],
   "source": [
    "# gradient value\n",
    "regr.coef_"
   ]
  },
  {
   "cell_type": "code",
   "execution_count": 16,
   "id": "230b8b8c-79b2-4622-aebf-8bcc9485e1a4",
   "metadata": {},
   "outputs": [],
   "source": [
    "# predict solubility values based on training set\n",
    "y_predict_train = regr.predict(x_train)"
   ]
  },
  {
   "cell_type": "code",
   "execution_count": 14,
   "id": "64c2a0d6-59e1-42f1-b741-215fd0ee97b5",
   "metadata": {},
   "outputs": [
    {
     "data": {
      "text/plain": [
       "0.4496524944694217"
      ]
     },
     "execution_count": 14,
     "metadata": {},
     "output_type": "execute_result"
    }
   ],
   "source": [
    "regr.score(x_train, y_train)"
   ]
  },
  {
   "cell_type": "code",
   "execution_count": null,
   "id": "4da65d3a-008e-47ec-bd04-47a73f167fe5",
   "metadata": {},
   "outputs": [
    {
     "data": {
      "text/plain": [
       "0.45585527409426707"
      ]
     },
     "execution_count": 11,
     "metadata": {},
     "output_type": "execute_result"
    }
   ],
   "source": [
    "regr.score(x_test, y_test)"
   ]
  },
  {
   "cell_type": "code",
   "execution_count": 30,
   "id": "6b457ccc-66ec-4119-b94e-4f6e652a8057",
   "metadata": {},
   "outputs": [
    {
     "data": {
      "text/plain": [
       "3.083162163422179"
      ]
     },
     "execution_count": 30,
     "metadata": {},
     "output_type": "execute_result"
    }
   ],
   "source": [
    "mean_squared_error(y_train, y_predict_train)\n",
    "\n",
    "# shows there is a high measure of error"
   ]
  },
  {
   "cell_type": "code",
   "execution_count": 31,
   "id": "fbdf32d4-c648-409b-a1e1-6d5c0ada8e9f",
   "metadata": {},
   "outputs": [
    {
     "data": {
      "text/plain": [
       "0.4496524944694217"
      ]
     },
     "execution_count": 31,
     "metadata": {},
     "output_type": "execute_result"
    }
   ],
   "source": [
    "r2_score(y_train, y_predict_train)\n",
    "\n",
    "# shows poor goodness of fit"
   ]
  },
  {
   "cell_type": "code",
   "execution_count": 26,
   "id": "0d1000f5-0e80-4ce3-b38a-b96aaafbaf59",
   "metadata": {},
   "outputs": [
    {
     "data": {
      "image/png": "[encoded data removed]",
      "text/plain": [
       "<Figure size 432x288 with 1 Axes>"
      ]
     },
     "metadata": {
      "needs_background": "light"
     },
     "output_type": "display_data"
    }
   ],
   "source": [
    "ax = sns.regplot(x=y_train, y=y_predict_train, scatter_kws={\"s\": 10})\n",
    "ax.set(xlabel='experimental solubility values', ylabel='predicted solubility values', title='Multiple linear regression for predicting solubility')\n",
    "plt.show()"
   ]
  },
  {
   "cell_type": "markdown",
   "id": "f27e7ca0-3ae3-464c-a2a2-a009bf5be112",
   "metadata": {},
   "source": [
    "This model scores pretty badly. In general, it is over predicting values."
   ]
  },
  {
   "cell_type": "code",
   "execution_count": null,
   "id": "9e26d018-f422-40aa-9fbb-b8574815e859",
   "metadata": {},
   "outputs": [],
   "source": []
  }
 ],
 "metadata": {
  "kernelspec": {
   "display_name": "Python 3 (ipykernel)",
   "language": "python",
   "name": "python3"
  },
  "language_info": {
   "codemirror_mode": {
    "name": "ipython",
    "version": 3
   },
   "file_extension": ".py",
   "mimetype": "text/x-python",
   "name": "python",
   "nbconvert_exporter": "python",
   "pygments_lexer": "ipython3",
   "version": "3.7.11"
  }
 },
 "nbformat": 4,
 "nbformat_minor": 5
}
