{
 "cells": [
  {
   "cell_type": "markdown",
   "id": "8cba9c27-3ba1-4a10-9c72-aac70ef5b3ea",
   "metadata": {},
   "source": [
    "# TensorFlow"
   ]
  },
  {
   "cell_type": "code",
   "execution_count": 3,
   "id": "64d819da-2066-4124-a032-d36f748a32f0",
   "metadata": {},
   "outputs": [],
   "source": [
    "import pandas as pd\n",
    "import numpy as np\n",
    "import seaborn as sns\n",
    "import matplotlib.pyplot as plt\n",
    "import tensorflow as tf\n",
    "\n",
    "from tensorflow import keras\n",
    "from tensorflow.keras import layers"
   ]
  },
  {
   "cell_type": "code",
   "execution_count": 4,
   "id": "db8df98a-c886-481d-8262-79e21b0193e6",
   "metadata": {},
   "outputs": [],
   "source": [
    "# loading dataset as pandas dataframe\n",
    "df = pd.read_csv('curated_aqsoldb.csv')"
   ]
  },
  {
   "cell_type": "code",
   "execution_count": 5,
   "id": "10edafe8-de92-43f5-b48a-1defd27c9a2c",
   "metadata": {},
   "outputs": [],
   "source": [
    "# create training and test sets\n",
    "train_set = df.sample(frac=0.8, random_state=0)\n",
    "\n",
    "test_set = df.drop(train_set.index)"
   ]
  },
  {
   "cell_type": "code",
   "execution_count": null,
   "id": "9d37d506-e0a6-475c-8d3e-5d24230247d8",
   "metadata": {},
   "outputs": [],
   "source": [
    "def build_and_compile_model(norm):\n",
    "  model = keras.Sequential([\n",
    "      norm,\n",
    "      layers.Dense(64, activation='relu'),\n",
    "      layers.Dense(64, activation='relu'),\n",
    "      layers.Dense(1)\n",
    "  ])\n",
    "\n",
    "  model.compile(loss='mean_absolute_error', optimizer=tf.keras.optimizers.Adam(0.001))\n",
    "  return model"
   ]
  },
  {
   "cell_type": "code",
   "execution_count": null,
   "id": "56b8dd01-4f5b-47ad-8c9c-70869906ce65",
   "metadata": {},
   "outputs": [],
   "source": [
    "dnn_model = build_and_compile_model(normalizer)"
   ]
  }
 ],
 "metadata": {
  "kernelspec": {
   "display_name": "Python 3 (ipykernel)",
   "language": "python",
   "name": "python3"
  },
  "language_info": {
   "codemirror_mode": {
    "name": "ipython",
    "version": 3
   },
   "file_extension": ".py",
   "mimetype": "text/x-python",
   "name": "python",
   "nbconvert_exporter": "python",
   "pygments_lexer": "ipython3",
   "version": "3.7.11"
  }
 },
 "nbformat": 4,
 "nbformat_minor": 5
}
